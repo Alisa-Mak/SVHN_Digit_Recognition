{
  "cells": [
    {
      "cell_type": "markdown",
      "metadata": {
        "id": "Q91KqmCRu64D"
      },
      "source": [
        "# **Deep Learning Project: Street View Housing Number Digit Recognition**\n",
        "\n",
        "\n",
        "--------------\n",
        "## **Context**\n",
        "--------------\n",
        "\n",
        "One of the most interesting tasks in deep learning is to recognize objects in natural scenes. The ability to process visual information using machine learning algorithms can be very useful as demonstrated in various applications.\n",
        "\n",
        "The SVHN dataset contains over 600,000 labeled digits cropped from street-level photos. It is one of the most popular image recognition datasets. It has been used in neural networks created by Google to improve the map quality by automatically transcribing the address numbers from a patch of pixels. The transcribed number with a known street address helps pinpoint the location of the building it represents.\n",
        "\n",
        "----------------\n",
        "## **Objective**\n",
        "----------------\n",
        "\n",
        "Our objective is to predict the number depicted inside the image by using Artificial or Fully Connected Feed Forward Neural Networks and Convolutional Neural Networks. We will go through various models of each and finally select the one that is giving us the best performance.\n",
        "\n",
        "-------------\n",
        "## **Dataset**\n",
        "-------------\n",
        "Here, we will use a subset of the original data to save some computation time. The dataset is provided as a .h5 file. The basic preprocessing steps have been applied on the dataset."
      ]
    },
    {
      "cell_type": "markdown",
      "metadata": {
        "id": "8z2Z7-OAs8QG"
      },
      "source": [
        "## **Mount the drive**\n",
        "\n",
        "Let us start by mounting the Google drive. You can run the below cell to mount the Google drive."
      ]
    },
    {
      "cell_type": "code",
      "execution_count": null,
      "metadata": {
        "colab": {
          "base_uri": "https://localhost:8080/"
        },
        "id": "03lDyQUuef7z",
        "outputId": "74467d05-8247-42d2-d728-ca7ababe4bda"
      },
      "outputs": [
        {
          "name": "stdout",
          "output_type": "stream",
          "text": [
            "Mounted at /content/drive\n"
          ]
        }
      ],
      "source": [
        "from google.colab import drive\n",
        "drive.mount('/content/drive')"
      ]
    },
    {
      "cell_type": "markdown",
      "metadata": {
        "id": "C8U3DUa3eNsT"
      },
      "source": [
        "## **Importing the necessary libraries**"
      ]
    },
    {
      "cell_type": "code",
      "execution_count": null,
      "metadata": {
        "id": "-dVzeuF3eQx1"
      },
      "outputs": [],
      "source": [
        "import numpy as np\n",
        "import pandas as pd\n",
        "import matplotlib.pyplot as plt\n",
        "import os\n",
        "import zipfile\n",
        "\n",
        "# For Data Visualization\n",
        "import cv2\n",
        "import seaborn as sns\n",
        "\n",
        "# For Model Building\n",
        "import tensorflow as tf\n",
        "import keras\n",
        "from tensorflow.keras.models import Sequential, Model # Sequential API for sequential model\n",
        "from tensorflow.keras.layers import Dense, Dropout, Flatten # Importing different layers\n",
        "from tensorflow.keras.layers import Conv2D, MaxPooling2D, BatchNormalization, Activation, Input, LeakyReLU, Activation\n",
        "from tensorflow.keras import backend\n",
        "from tensorflow.keras.utils import to_categorical # To perform one-hot encoding\n",
        "from tensorflow.keras.optimizers import RMSprop, Adam, SGD # Optimizers for optimizing the model\n",
        "from tensorflow.keras.callbacks import EarlyStopping  # Regularization method to prevent the overfitting\n",
        "from tensorflow.keras.callbacks import ModelCheckpoint\n",
        "from tensorflow.keras import losses, optimizers\n",
        "from tensorflow.keras.preprocessing.image import load_img\n",
        "from google.colab.patches import cv2_imshow"
      ]
    },
    {
      "cell_type": "code",
      "execution_count": null,
      "metadata": {
        "id": "BApX9qgNsqV0",
        "scrolled": true
      },
      "outputs": [],
      "source": [
        "# To interact with h5 files\n",
        "#!pip install h5py #to read h5"
      ]
    },
    {
      "cell_type": "code",
      "execution_count": null,
      "metadata": {
        "id": "pb5Rxq0Wo5Nt"
      },
      "outputs": [],
      "source": [
        "import h5py"
      ]
    },
    {
      "cell_type": "markdown",
      "metadata": {
        "id": "ucnevGLoyKf_"
      },
      "source": [
        "**Let us check the version of tensorflow.**"
      ]
    },
    {
      "cell_type": "code",
      "execution_count": null,
      "metadata": {
        "colab": {
          "base_uri": "https://localhost:8080/"
        },
        "id": "W5as47YxyJVk",
        "outputId": "93bb8c67-0267-4666-af7f-e02a01a0e730"
      },
      "outputs": [
        {
          "name": "stdout",
          "output_type": "stream",
          "text": [
            "2.15.0\n"
          ]
        }
      ],
      "source": [
        "print(tf.__version__)\n"
      ]
    },
    {
      "cell_type": "markdown",
      "metadata": {
        "id": "8lsux2ZwyTTR"
      },
      "source": [
        "## **Load the dataset**\n",
        "\n",
        "- Let us now load the dataset that is available as a .h5 file.\n",
        "- Split the data into the train and the test dataset."
      ]
    },
    {
      "cell_type": "code",
      "execution_count": null,
      "metadata": {
        "id": "8rNYYBa6Q0xm"
      },
      "outputs": [],
      "source": [
        "def load_dataset ():\n",
        "  # Path to h5 file\n",
        "  path = '/content/drive/MyDrive/MIT/7_elective_project/SVHN_single_grey1.h5'\n",
        "\n",
        "  # Open the .h5 file\n",
        "  h5_file = h5py.File(path, 'r')\n",
        "\n",
        "  # List all groups\n",
        "  print(\"DB loaded: %s\" % h5_file.keys())\n",
        "\n",
        "  X_train = h5_file['X_train'][:]\n",
        "  X_val = h5_file['X_val'][:]\n",
        "  X_test = h5_file['X_test'][:]\n",
        "  y_train = h5_file['y_train'][:]\n",
        "  y_val = h5_file['y_val'][:]\n",
        "  y_test = h5_file['y_test'][:]\n",
        "\n",
        "  # Close the file\n",
        "  h5_file.close()\n",
        "\n",
        "  return X_train,X_val,X_test,y_train,y_val,y_test"
      ]
    },
    {
      "cell_type": "code",
      "execution_count": null,
      "metadata": {
        "colab": {
          "base_uri": "https://localhost:8080/"
        },
        "id": "qX4ZSL23lyGy",
        "outputId": "801701d8-3e4e-4b97-9af7-d91553234df1"
      },
      "outputs": [
        {
          "name": "stdout",
          "output_type": "stream",
          "text": [
            "DB loaded: <KeysViewHDF5 ['X_test', 'X_train', 'X_val', 'y_test', 'y_train', 'y_val']>\n"
          ]
        }
      ],
      "source": [
        "X_train,X_val,X_test,y_train,y_val,y_test = load_dataset()"
      ]
    },
    {
      "cell_type": "markdown",
      "metadata": {
        "id": "hVe0CYpUgj7w"
      },
      "source": [
        "Check the number of images in the training and the testing dataset."
      ]
    },
    {
      "cell_type": "code",
      "execution_count": null,
      "metadata": {
        "id": "vNllo8t_1gqu"
      },
      "outputs": [],
      "source": [
        "def print_dataset_info():\n",
        "  datasets = [X_test, X_train, X_val, y_test, y_train, y_val]\n",
        "  dataset_names = ['X_test', 'X_train', 'X_val', 'y_test', 'y_train', 'y_val']\n",
        "  for ds, name in zip(datasets, dataset_names):\n",
        "      print(f\"Dataset: {name}, Shape: {ds.shape}\")"
      ]
    },
    {
      "cell_type": "code",
      "execution_count": null,
      "metadata": {
        "colab": {
          "base_uri": "https://localhost:8080/"
        },
        "id": "CgrXMbpbnhSU",
        "outputId": "a5e07752-5f0c-49b6-adeb-056e45b5eee3"
      },
      "outputs": [
        {
          "name": "stdout",
          "output_type": "stream",
          "text": [
            "Dataset: X_test, Shape: (18000, 32, 32)\n",
            "Dataset: X_train, Shape: (42000, 32, 32)\n",
            "Dataset: X_val, Shape: (60000, 32, 32)\n",
            "Dataset: y_test, Shape: (18000,)\n",
            "Dataset: y_train, Shape: (42000,)\n",
            "Dataset: y_val, Shape: (60000,)\n"
          ]
        }
      ],
      "source": [
        "print_dataset_info()"
      ]
    },
    {
      "cell_type": "markdown",
      "metadata": {
        "id": "W12XvgEfoMC8"
      },
      "source": [
        "Dataset consists of images of size 32*32 and labels:\n",
        "\n",
        "* test - 18K images and labels\n",
        "* train - 42K images and labels\n",
        "* val - 60K images and labels"
      ]
    },
    {
      "cell_type": "markdown",
      "metadata": {
        "id": "kxODV6HKykuc"
      },
      "source": [
        "## **Visualizing images**\n",
        "\n",
        "- Use X_train to visualize the first 10 images.\n",
        "- Use Y_train to print the first 10 labels."
      ]
    },
    {
      "cell_type": "code",
      "execution_count": null,
      "metadata": {
        "colab": {
          "base_uri": "https://localhost:8080/",
          "height": 248
        },
        "id": "vYx8b5s18Cto",
        "outputId": "228a9f53-5dc1-438b-9dda-b8403c0a00db"
      },
      "outputs": [
        {
          "data": {
            "image/png": "[encoded data removed]",
            "text/plain": [
              "<Figure size 400x400 with 10 Axes>"
            ]
          },
          "metadata": {},
          "output_type": "display_data"
        }
      ],
      "source": [
        "fig, axes = plt.subplots(nrows=2, ncols=5, figsize=(4, 4))\n",
        "\n",
        "for i, ax in enumerate(axes.flat):\n",
        "    ax.imshow(X_train[i])\n",
        "    ax.axis('off')\n",
        "\n",
        "plt.tight_layout()  # Adjusts subplots to avoid overlapping\n",
        "plt.show()"
      ]
    },
    {
      "cell_type": "code",
      "execution_count": null,
      "metadata": {
        "colab": {
          "base_uri": "https://localhost:8080/"
        },
        "id": "2xRI5n12hgKx",
        "outputId": "5bdb3ae8-4034-4e50-81d8-5df799d4dda1"
      },
      "outputs": [
        {
          "name": "stdout",
          "output_type": "stream",
          "text": [
            "2\n",
            "6\n",
            "7\n",
            "4\n",
            "4\n",
            "0\n",
            "3\n",
            "0\n",
            "7\n",
            "3\n"
          ]
        }
      ],
      "source": [
        "for i in range(10):\n",
        "  print(y_train[i])"
      ]
    },
    {
      "cell_type": "code",
      "execution_count": null,
      "metadata": {
        "colab": {
          "base_uri": "https://localhost:8080/"
        },
        "id": "urC50cjdn_Xo",
        "outputId": "5862e6ee-b29f-4ea4-bc97-489af1472d05"
      },
      "outputs": [
        {
          "data": {
            "text/plain": [
              "array([0, 1, 2, 3, 4, 5, 6, 7, 8, 9], dtype=uint8)"
            ]
          },
          "execution_count": 12,
          "metadata": {},
          "output_type": "execute_result"
        }
      ],
      "source": [
        "np.unique(y_train)"
      ]
    },
    {
      "cell_type": "code",
      "execution_count": null,
      "metadata": {
        "id": "4nhUC5-MqEqx"
      },
      "outputs": [],
      "source": [
        "# Save categories for model classification report\n",
        "categories = np.unique(y_train)"
      ]
    },
    {
      "cell_type": "markdown",
      "metadata": {
        "id": "kzoyeXHOy80N"
      },
      "source": [
        "## **Data preparation**\n",
        "\n",
        "- Print the shape and the array of pixels for the first image in the training dataset.\n",
        "- Normalize the train and the test dataset by dividing by 255.\n",
        "- Print the new shapes of the train and the test dataset.\n",
        "- One-hot encode the target variable."
      ]
    },
    {
      "cell_type": "code",
      "execution_count": null,
      "metadata": {
        "colab": {
          "base_uri": "https://localhost:8080/"
        },
        "id": "yw5H1h8EpG7p",
        "outputId": "f88c51b3-332b-4d72-ead9-468570e4c99b"
      },
      "outputs": [
        {
          "name": "stdout",
          "output_type": "stream",
          "text": [
            "first image shape: (32, 32)\n",
            "\n",
            "first image array:\n",
            "\n",
            "[[ 33.0704  30.2601  26.852  ...  71.4471  58.2204  42.9939]\n",
            " [ 25.2283  25.5533  29.9765 ... 113.0209 103.3639  84.2949]\n",
            " [ 26.2775  22.6137  40.4763 ... 113.3028 121.775  115.4228]\n",
            " ...\n",
            " [ 28.5502  36.212   45.0801 ...  24.1359  25.0927  26.0603]\n",
            " [ 38.4352  26.4733  23.2717 ...  28.1094  29.4683  30.0661]\n",
            " [ 50.2984  26.0773  24.0389 ...  49.6682  50.853   53.0377]]\n"
          ]
        }
      ],
      "source": [
        "print(f\"first image shape: {X_train[0].shape}\\n\\nfirst image array:\\n\\n{X_train[0]}\")"
      ]
    },
    {
      "cell_type": "code",
      "execution_count": null,
      "metadata": {
        "colab": {
          "base_uri": "https://localhost:8080/"
        },
        "id": "r_yk1p-qkAFh",
        "outputId": "b61c614d-a095-4ce3-875a-3458fd61588c"
      },
      "outputs": [
        {
          "data": {
            "text/plain": [
              "array([[ 33.0704,  30.2601,  26.852 , ...,  71.4471,  58.2204,  42.9939],\n",
              "       [ 25.2283,  25.5533,  29.9765, ..., 113.0209, 103.3639,  84.2949],\n",
              "       [ 26.2775,  22.6137,  40.4763, ..., 113.3028, 121.775 , 115.4228],\n",
              "       ...,\n",
              "       [ 28.5502,  36.212 ,  45.0801, ...,  24.1359,  25.0927,  26.0603],\n",
              "       [ 38.4352,  26.4733,  23.2717, ...,  28.1094,  29.4683,  30.0661],\n",
              "       [ 50.2984,  26.0773,  24.0389, ...,  49.6682,  50.853 ,  53.0377]],\n",
              "      dtype=float32)"
            ]
          },
          "execution_count": 29,
          "metadata": {},
          "output_type": "execute_result"
        }
      ],
      "source": [
        "X_train[0]"
      ]
    },
    {
      "cell_type": "markdown",
      "metadata": {
        "id": "f4CQkKtQ0XII"
      },
      "source": [
        "### **Normalize the train and the test data**"
      ]
    },
    {
      "cell_type": "code",
      "execution_count": null,
      "metadata": {
        "id": "2r6--fVFjsiA"
      },
      "outputs": [],
      "source": [
        "# Normalizing the image data\n",
        "\n",
        "X_train = X_train/255.0\n",
        "X_test = X_test/255.0\n",
        "X_val = X_val/255.0"
      ]
    },
    {
      "cell_type": "code",
      "execution_count": null,
      "metadata": {
        "colab": {
          "base_uri": "https://localhost:8080/"
        },
        "id": "90HzX8Chrl5m",
        "outputId": "93dbf112-6b0d-41f8-c38c-89f8aff578ea"
      },
      "outputs": [
        {
          "data": {
            "text/plain": [
              "array([[0.12968785, 0.11866706, 0.10530196, ..., 0.2801847 , 0.2283153 ,\n",
              "        0.16860352],\n",
              "       [0.09893451, 0.10020902, 0.1175549 , ..., 0.4432192 , 0.40534863,\n",
              "        0.33056822],\n",
              "       [0.10304902, 0.08868118, 0.15873058, ..., 0.44432473, 0.47754902,\n",
              "        0.45263842],\n",
              "       ...,\n",
              "       [0.11196157, 0.14200786, 0.17678471, ..., 0.09465059, 0.09840274,\n",
              "        0.10219726],\n",
              "       [0.15072627, 0.10381687, 0.09126157, ..., 0.11023294, 0.11556196,\n",
              "        0.11790627],\n",
              "       [0.19724864, 0.10226392, 0.0942702 , ..., 0.19477727, 0.19942354,\n",
              "        0.20799099]], dtype=float32)"
            ]
          },
          "execution_count": 18,
          "metadata": {},
          "output_type": "execute_result"
        }
      ],
      "source": [
        "#sanity check\n",
        "X_train[0]"
      ]
    },
    {
      "cell_type": "markdown",
      "metadata": {
        "id": "YSlYN6pb8kMY"
      },
      "source": [
        "Print the shapes of Training and Test data"
      ]
    },
    {
      "cell_type": "code",
      "execution_count": null,
      "metadata": {
        "colab": {
          "base_uri": "https://localhost:8080/"
        },
        "id": "t7FSqOpamWkH",
        "outputId": "9cc86542-ae25-4a71-91e7-f25d1933d5f3"
      },
      "outputs": [
        {
          "data": {
            "text/plain": [
              "((42000, 32, 32), (18000, 32, 32), (60000, 32, 32))"
            ]
          },
          "execution_count": 19,
          "metadata": {},
          "output_type": "execute_result"
        }
      ],
      "source": [
        "X_train.shape, X_test.shape, X_val.shape"
      ]
    },
    {
      "cell_type": "markdown",
      "metadata": {
        "id": "ser2wsnO2tSu"
      },
      "source": [
        "### **Flatten data**\n",
        "\n",
        "Traditional ANN models expect 1-dimensional input. In our case 32*32 input shape = (1024)"
      ]
    },
    {
      "cell_type": "code",
      "execution_count": null,
      "metadata": {
        "id": "iQ1935RD2C8C"
      },
      "outputs": [],
      "source": [
        "# Flatten the images\n",
        "\n",
        "#X_train.shape[0] - specifies the number of rows 24k images, we want to keep that\n",
        "# -1 - the number of columns is calculated based on the remaning dimantions 32*32 = 1024\n",
        "X_train_flat = X_train.reshape(X_train.shape[0], -1)\n",
        "X_test_flat = X_test.reshape(X_test.shape[0], -1)\n",
        "X_val_flat = X_val.reshape(X_val.shape[0], -1)"
      ]
    },
    {
      "cell_type": "code",
      "execution_count": null,
      "metadata": {
        "colab": {
          "base_uri": "https://localhost:8080/"
        },
        "id": "NkARy-je2Wpf",
        "outputId": "a94aaa48-7ab7-4a22-f726-2af5f19566aa"
      },
      "outputs": [
        {
          "data": {
            "text/plain": [
              "((42000, 1024), (18000, 1024), (60000, 1024))"
            ]
          },
          "execution_count": 21,
          "metadata": {},
          "output_type": "execute_result"
        }
      ],
      "source": [
        "X_train_flat.shape, X_test_flat.shape, X_val_flat.shape"
      ]
    },
    {
      "cell_type": "markdown",
      "metadata": {
        "id": "0uLxXBpz81vk"
      },
      "source": [
        "### **One-hot encode output**"
      ]
    },
    {
      "cell_type": "code",
      "execution_count": null,
      "metadata": {
        "id": "zL0lYER4sqWw"
      },
      "outputs": [],
      "source": [
        "#encoding\n",
        "y_train_encoded = to_categorical(y_train, 10)\n",
        "y_test_encoded = to_categorical(y_test, 10)\n",
        "y_validation_encoded = to_categorical(y_val, 10)"
      ]
    },
    {
      "cell_type": "code",
      "execution_count": null,
      "metadata": {
        "colab": {
          "base_uri": "https://localhost:8080/"
        },
        "id": "klPNZRhtqqZt",
        "outputId": "063b9eb7-43ff-4030-fbc4-63671e75de04"
      },
      "outputs": [
        {
          "name": "stdout",
          "output_type": "stream",
          "text": [
            "Hot encoding for: 2, is: [0. 0. 1. 0. 0. 0. 0. 0. 0. 0.]\n"
          ]
        }
      ],
      "source": [
        "#sanity check for encoding\n",
        "print(f\"Hot encoding for: {y_train[0]}, is: {y_train_encoded[0]}\")"
      ]
    },
    {
      "cell_type": "markdown",
      "metadata": {
        "id": "ViqPOTquCF76"
      },
      "source": [
        "**Observation:**\n"
      ]
    },
    {
      "cell_type": "markdown",
      "metadata": {
        "id": "lC-ncfj_vYWl"
      },
      "source": [
        "Following data preparations were made to work with neural network:\n",
        "* The data has been flattened form 32,32 into 32*32 = 1024 shape\n",
        "* The data was normalized - can be beneficial for faster algorithm conversion\n",
        "* The labels were encoded"
      ]
    },
    {
      "cell_type": "markdown",
      "metadata": {
        "id": "yH-gVrzuByNA"
      },
      "source": [
        "## **Model Building**\n",
        "\n",
        "Now that we have done the data preprocessing, let's build an ANN model.\n",
        "\n",
        "### Fix the seed for random number generators"
      ]
    },
    {
      "cell_type": "code",
      "execution_count": null,
      "metadata": {
        "id": "wcU_Mq7-tzYG"
      },
      "outputs": [],
      "source": [
        "def clear_backend_and_gen_random_seed():\n",
        "  #clear the previous model's history from the Keras backend\n",
        "  backend.clear_session()\n",
        "  # Fixing the seed for random number generators so that we can ensure we receive the same output everytime\n",
        "  np.random.seed(42)\n",
        "  import random\n",
        "  random.seed(42)\n",
        "  tf.random.set_seed(42)"
      ]
    },
    {
      "cell_type": "code",
      "execution_count": null,
      "metadata": {
        "id": "75wu2Toxtdfu"
      },
      "outputs": [],
      "source": [
        "clear_backend_and_gen_random_seed()"
      ]
    },
    {
      "cell_type": "markdown",
      "metadata": {
        "id": "UJDUoaEj1d6e"
      },
      "source": [
        "### **Model Architecture**\n",
        "- Write a function that returns a sequential model with the following architecture:\n",
        " - First hidden layer with **64 nodes and the relu activation** and the **input shape = (1024, )**\n",
        " - Second hidden layer with **32 nodes and the relu activation**\n",
        " - Output layer with **activation as 'softmax' and number of nodes equal to the number of classes, i.e., 10**\n",
        " - Compile the model with the **loss equal to categorical_crossentropy, optimizer equal to Adam(learning_rate = 0.001), and metric equal to 'accuracy'**. Do not fit the model here, just return the compiled model.\n",
        "- Call the nn_model_1 function and store the model in a new variable.\n",
        "- Print the summary of the model.\n",
        "- Fit on the train data with a **validation split of 0.2, batch size = 128, verbose = 1, and epochs = 20**. Store the model building history to use later for visualization."
      ]
    },
    {
      "cell_type": "markdown",
      "metadata": {
        "id": "A48z6ucF0XIP"
      },
      "source": [
        "### **Build and train an ANN model as per the above mentioned architecture.**"
      ]
    },
    {
      "cell_type": "code",
      "execution_count": null,
      "metadata": {
        "id": "Cmi81Gr5sqW-"
      },
      "outputs": [],
      "source": [
        "# Intializing a sequential model\n",
        "nn_model_1 = Sequential()\n",
        "\n",
        "# First hidden layer with 64 nodes and the relu activation and the input shape = (1024, )\n",
        "nn_model_1.add(Dense(64, input_shape = (1024,), activation = 'relu'))\n",
        "\n",
        "# Second hidden layer with 32 nodes and the relu activation\n",
        "nn_model_1.add(Dense(32, activation = 'relu'))\n",
        "\n",
        "# Output layer with activation as 'softmax' and number of nodes equal to the number of classes, i.e., 10\n",
        "nn_model_1.add(Dense(10, activation = 'softmax'))\n"
      ]
    },
    {
      "cell_type": "code",
      "execution_count": null,
      "metadata": {
        "id": "qdmG1rn9yBaV"
      },
      "outputs": [],
      "source": [
        "#default learning rate for the Adam optimizer in TensorFlow and Keras is 0.001\n",
        "\n",
        "nn_model_1.compile(optimizer = 'adam', loss = 'categorical_crossentropy',  metrics = ['accuracy'])"
      ]
    },
    {
      "cell_type": "code",
      "execution_count": null,
      "metadata": {
        "colab": {
          "base_uri": "https://localhost:8080/"
        },
        "id": "-2ePR_7VWaNk",
        "outputId": "99c85d98-594c-4705-b885-59d5986ab772"
      },
      "outputs": [
        {
          "name": "stdout",
          "output_type": "stream",
          "text": [
            "Model: \"sequential\"\n",
            "_________________________________________________________________\n",
            " Layer (type)                Output Shape              Param #   \n",
            "=================================================================\n",
            " dense (Dense)               (None, 64)                65600     \n",
            "                                                                 \n",
            " dense_1 (Dense)             (None, 32)                2080      \n",
            "                                                                 \n",
            " dense_2 (Dense)             (None, 10)                330       \n",
            "                                                                 \n",
            "=================================================================\n",
            "Total params: 68010 (265.66 KB)\n",
            "Trainable params: 68010 (265.66 KB)\n",
            "Non-trainable params: 0 (0.00 Byte)\n",
            "_________________________________________________________________\n"
          ]
        }
      ],
      "source": [
        "# Generating the summary of the model\n",
        "nn_model_1.summary()"
      ]
    },
    {
      "cell_type": "markdown",
      "metadata": {
        "id": "fAV3O9yebPPb"
      },
      "source": [
        "we could also add an early stopping but here there is no such requironment"
      ]
    },
    {
      "cell_type": "code",
      "execution_count": null,
      "metadata": {
        "colab": {
          "base_uri": "https://localhost:8080/"
        },
        "id": "b-Kpz-EQW8hn",
        "outputId": "85591e57-1717-437e-a938-28601cd625c7"
      },
      "outputs": [
        {
          "name": "stdout",
          "output_type": "stream",
          "text": [
            "Epoch 1/20\n",
            "257/263 [============================>.] - ETA: 0s - loss: 2.2947 - accuracy: 0.1228\n",
            "Epoch 1: val_accuracy improved from -inf to 0.17440, saving model to nn_model_1.h5\n",
            "263/263 [==============================] - 4s 6ms/step - loss: 2.2934 - accuracy: 0.1233 - val_loss: 2.2324 - val_accuracy: 0.1744\n",
            "Epoch 2/20\n",
            " 49/263 [====>.........................] - ETA: 0s - loss: 2.2108 - accuracy: 0.1865"
          ]
        },
        {
          "name": "stderr",
          "output_type": "stream",
          "text": [
            "/usr/local/lib/python3.10/dist-packages/keras/src/engine/training.py:3103: UserWarning: You are saving your model as an HDF5 file via `model.save()`. This file format is considered legacy. We recommend using instead the native Keras format, e.g. `model.save('my_model.keras')`.\n",
            "  saving_api.save_model(\n"
          ]
        },
        {
          "name": "stdout",
          "output_type": "stream",
          "text": [
            "261/263 [============================>.] - ETA: 0s - loss: 2.0782 - accuracy: 0.2503\n",
            "Epoch 2: val_accuracy improved from 0.17440 to 0.30893, saving model to nn_model_1.h5\n",
            "263/263 [==============================] - 1s 4ms/step - loss: 2.0774 - accuracy: 0.2509 - val_loss: 1.9318 - val_accuracy: 0.3089\n",
            "Epoch 3/20\n",
            "247/263 [===========================>..] - ETA: 0s - loss: 1.8744 - accuracy: 0.3382\n",
            "Epoch 3: val_accuracy improved from 0.30893 to 0.38690, saving model to nn_model_1.h5\n",
            "263/263 [==============================] - 1s 4ms/step - loss: 1.8679 - accuracy: 0.3405 - val_loss: 1.7779 - val_accuracy: 0.3869\n",
            "Epoch 4/20\n",
            "260/263 [============================>.] - ETA: 0s - loss: 1.6586 - accuracy: 0.4388\n",
            "Epoch 4: val_accuracy improved from 0.38690 to 0.49071, saving model to nn_model_1.h5\n",
            "263/263 [==============================] - 1s 4ms/step - loss: 1.6573 - accuracy: 0.4391 - val_loss: 1.5288 - val_accuracy: 0.4907\n",
            "Epoch 5/20\n",
            "248/263 [===========================>..] - ETA: 0s - loss: 1.4666 - accuracy: 0.5164\n",
            "Epoch 5: val_accuracy improved from 0.49071 to 0.52548, saving model to nn_model_1.h5\n",
            "263/263 [==============================] - 1s 4ms/step - loss: 1.4635 - accuracy: 0.5180 - val_loss: 1.4202 - val_accuracy: 0.5255\n",
            "Epoch 6/20\n",
            "257/263 [============================>.] - ETA: 0s - loss: 1.3601 - accuracy: 0.5565\n",
            "Epoch 6: val_accuracy improved from 0.52548 to 0.57488, saving model to nn_model_1.h5\n",
            "263/263 [==============================] - 1s 5ms/step - loss: 1.3593 - accuracy: 0.5566 - val_loss: 1.3259 - val_accuracy: 0.5749\n",
            "Epoch 7/20\n",
            "259/263 [============================>.] - ETA: 0s - loss: 1.2911 - accuracy: 0.5831\n",
            "Epoch 7: val_accuracy improved from 0.57488 to 0.60119, saving model to nn_model_1.h5\n",
            "263/263 [==============================] - 2s 6ms/step - loss: 1.2905 - accuracy: 0.5834 - val_loss: 1.2542 - val_accuracy: 0.6012\n",
            "Epoch 8/20\n",
            "260/263 [============================>.] - ETA: 0s - loss: 1.2390 - accuracy: 0.6035\n",
            "Epoch 8: val_accuracy improved from 0.60119 to 0.62310, saving model to nn_model_1.h5\n",
            "263/263 [==============================] - 1s 5ms/step - loss: 1.2378 - accuracy: 0.6036 - val_loss: 1.2163 - val_accuracy: 0.6231\n",
            "Epoch 9/20\n",
            "252/263 [===========================>..] - ETA: 0s - loss: 1.2018 - accuracy: 0.6194\n",
            "Epoch 9: val_accuracy improved from 0.62310 to 0.63321, saving model to nn_model_1.h5\n",
            "263/263 [==============================] - 1s 4ms/step - loss: 1.1996 - accuracy: 0.6203 - val_loss: 1.1702 - val_accuracy: 0.6332\n",
            "Epoch 10/20\n",
            "263/263 [==============================] - ETA: 0s - loss: 1.1659 - accuracy: 0.6332\n",
            "Epoch 10: val_accuracy improved from 0.63321 to 0.64310, saving model to nn_model_1.h5\n",
            "263/263 [==============================] - 1s 4ms/step - loss: 1.1659 - accuracy: 0.6332 - val_loss: 1.1446 - val_accuracy: 0.6431\n",
            "Epoch 11/20\n",
            "261/263 [============================>.] - ETA: 0s - loss: 1.1466 - accuracy: 0.6398\n",
            "Epoch 11: val_accuracy improved from 0.64310 to 0.64762, saving model to nn_model_1.h5\n",
            "263/263 [==============================] - 1s 4ms/step - loss: 1.1461 - accuracy: 0.6401 - val_loss: 1.1250 - val_accuracy: 0.6476\n",
            "Epoch 12/20\n",
            "262/263 [============================>.] - ETA: 0s - loss: 1.1239 - accuracy: 0.6487\n",
            "Epoch 12: val_accuracy improved from 0.64762 to 0.65143, saving model to nn_model_1.h5\n",
            "263/263 [==============================] - 1s 4ms/step - loss: 1.1244 - accuracy: 0.6485 - val_loss: 1.1143 - val_accuracy: 0.6514\n",
            "Epoch 13/20\n",
            "246/263 [===========================>..] - ETA: 0s - loss: 1.1005 - accuracy: 0.6594\n",
            "Epoch 13: val_accuracy improved from 0.65143 to 0.66071, saving model to nn_model_1.h5\n",
            "263/263 [==============================] - 1s 4ms/step - loss: 1.1018 - accuracy: 0.6587 - val_loss: 1.0944 - val_accuracy: 0.6607\n",
            "Epoch 14/20\n",
            "248/263 [===========================>..] - ETA: 0s - loss: 1.1005 - accuracy: 0.6591\n",
            "Epoch 14: val_accuracy improved from 0.66071 to 0.66345, saving model to nn_model_1.h5\n",
            "263/263 [==============================] - 1s 4ms/step - loss: 1.0975 - accuracy: 0.6601 - val_loss: 1.0916 - val_accuracy: 0.6635\n",
            "Epoch 15/20\n",
            "262/263 [============================>.] - ETA: 0s - loss: 1.0838 - accuracy: 0.6640\n",
            "Epoch 15: val_accuracy improved from 0.66345 to 0.66619, saving model to nn_model_1.h5\n",
            "263/263 [==============================] - 1s 4ms/step - loss: 1.0839 - accuracy: 0.6639 - val_loss: 1.0903 - val_accuracy: 0.6662\n",
            "Epoch 16/20\n",
            "249/263 [===========================>..] - ETA: 0s - loss: 1.0693 - accuracy: 0.6689\n",
            "Epoch 16: val_accuracy did not improve from 0.66619\n",
            "263/263 [==============================] - 1s 4ms/step - loss: 1.0716 - accuracy: 0.6683 - val_loss: 1.1276 - val_accuracy: 0.6456\n",
            "Epoch 17/20\n",
            "248/263 [===========================>..] - ETA: 0s - loss: 1.0641 - accuracy: 0.6708\n",
            "Epoch 17: val_accuracy improved from 0.66619 to 0.67095, saving model to nn_model_1.h5\n",
            "263/263 [==============================] - 1s 4ms/step - loss: 1.0627 - accuracy: 0.6715 - val_loss: 1.0679 - val_accuracy: 0.6710\n",
            "Epoch 18/20\n",
            "253/263 [===========================>..] - ETA: 0s - loss: 1.0546 - accuracy: 0.6730\n",
            "Epoch 18: val_accuracy improved from 0.67095 to 0.67214, saving model to nn_model_1.h5\n",
            "263/263 [==============================] - 2s 7ms/step - loss: 1.0546 - accuracy: 0.6739 - val_loss: 1.0573 - val_accuracy: 0.6721\n",
            "Epoch 19/20\n",
            "261/263 [============================>.] - ETA: 0s - loss: 1.0472 - accuracy: 0.6750\n",
            "Epoch 19: val_accuracy improved from 0.67214 to 0.67464, saving model to nn_model_1.h5\n",
            "263/263 [==============================] - 1s 6ms/step - loss: 1.0476 - accuracy: 0.6748 - val_loss: 1.0573 - val_accuracy: 0.6746\n",
            "Epoch 20/20\n",
            "253/263 [===========================>..] - ETA: 0s - loss: 1.0412 - accuracy: 0.6782\n",
            "Epoch 20: val_accuracy did not improve from 0.67464\n",
            "263/263 [==============================] - 1s 5ms/step - loss: 1.0421 - accuracy: 0.6778 - val_loss: 1.0511 - val_accuracy: 0.6740\n"
          ]
        }
      ],
      "source": [
        "# Fitting the model with 20 epochs and validation_split as 0.2\n",
        "\n",
        "# Callback to save the best model\n",
        "mc = ModelCheckpoint('nn_model_1.h5', monitor = 'val_accuracy', mode = 'max', verbose = 1, save_best_only = True)\n",
        "\n",
        "nn_model_1_history=nn_model_1.fit(X_train_flat,\n",
        "          y_train_encoded,\n",
        "          epochs = 20,\n",
        "          batch_size= 128,\n",
        "          validation_split = 0.2,\n",
        "          verbose = 1,\n",
        "          callbacks = [mc])"
      ]
    },
    {
      "cell_type": "markdown",
      "metadata": {
        "id": "MeF8XSWz0XIU"
      },
      "source": [
        "### **Plot the Training and Validation Accuracies and write down your Observations.**"
      ]
    },
    {
      "cell_type": "code",
      "execution_count": null,
      "metadata": {
        "id": "LLmeNRsUxb0l"
      },
      "outputs": [],
      "source": [
        "# Plotting the training and validation accuracies for each epoch\n",
        "\n",
        "def plot_model_accuracies(model_history):\n",
        "  plt.plot(model_history.history['accuracy'])\n",
        "  plt.plot(model_history.history['val_accuracy'])\n",
        "  plt.title('model accuracy')\n",
        "  plt.ylabel('accuracy')\n",
        "  plt.xlabel('epoch')\n",
        "  plt.legend(['train', 'validation'], loc='upper left')\n",
        "  plt.show()"
      ]
    },
    {
      "cell_type": "code",
      "execution_count": null,
      "metadata": {
        "colab": {
          "base_uri": "https://localhost:8080/",
          "height": 472
        },
        "id": "pmAUukgsxfQf",
        "outputId": "7e229610-475c-428b-a329-0451837e6c10"
      },
      "outputs": [
        {
          "data": {
            "image/png": "[encoded data removed]",
            "text/plain": [
              "<Figure size 640x480 with 1 Axes>"
            ]
          },
          "metadata": {},
          "output_type": "display_data"
        }
      ],
      "source": [
        "plot_model_accuracies(nn_model_1_history)"
      ]
    },
    {
      "cell_type": "markdown",
      "metadata": {
        "id": "rlAVN0_EpAtV"
      },
      "source": [
        "### **Checking Test Accuracy**"
      ]
    },
    {
      "cell_type": "code",
      "execution_count": null,
      "metadata": {
        "colab": {
          "base_uri": "https://localhost:8080/"
        },
        "id": "4yKFvZEkowWj",
        "outputId": "6e9a71eb-62be-40ba-c0a3-72b5144c2cb5"
      },
      "outputs": [
        {
          "name": "stdout",
          "output_type": "stream",
          "text": [
            "563/563 [==============================] - 2s 4ms/step - loss: 1.0434 - accuracy: 0.6781\n"
          ]
        },
        {
          "data": {
            "text/plain": [
              "[1.0433531999588013, 0.6780555844306946]"
            ]
          },
          "execution_count": 79,
          "metadata": {},
          "output_type": "execute_result"
        }
      ],
      "source": [
        "nn_model_1.evaluate(X_test_flat, (y_test_encoded))"
      ]
    },
    {
      "cell_type": "markdown",
      "metadata": {
        "id": "pGBbQpLONX7k"
      },
      "source": [
        "**Observations:**\n",
        "* The first model has 68010 trainable parameters.\n",
        "* Loss ~1.04 and accurancy ~0.67.\n",
        "* The train and test accuracies are constantly improving.\n",
        "* Looks like the model is fitting the data well (not overfitting).\n",
        "* After ~10 epochs the accuracy improvement rate is less significant, and curves are flattening out."
      ]
    },
    {
      "cell_type": "markdown",
      "metadata": {
        "id": "z0qgLMBZm5-K"
      },
      "source": [
        "Let's build one more model with higher complexity and see if we can improve the performance of the model.\n",
        "\n",
        "First, we need to clear the previous model's history from the Keras backend. Also, let's fix the seed again after clearing the backend."
      ]
    },
    {
      "cell_type": "markdown",
      "metadata": {
        "id": "lT6o3TIKuCtk"
      },
      "source": [
        "### **Second Model Architecture**\n",
        "- Write a function that returns a sequential model with the following architecture:\n",
        " - First hidden layer with **256 nodes and the relu activation** and the **input shape = (1024, )**\n",
        " - Second hidden layer with **128 nodes and the relu activation**\n",
        " - Add the **Dropout layer with the rate equal to 0.2**\n",
        " - Third hidden layer with **64 nodes and the relu activation**\n",
        " - Fourth hidden layer with **64 nodes and the relu activation**\n",
        " - Fifth hidden layer with **32 nodes and the relu activation**\n",
        " - Add the **BatchNormalization layer**\n",
        " - Output layer with **activation as 'softmax' and number of nodes equal to the number of classes, i.e., 10**\n",
        " -Compile the model with the **loss equal to categorical_crossentropy, optimizer equal to Adam(learning_rate = 0.0005), and metric equal to 'accuracy'**. Do not fit the model here, just return the compiled model.\n",
        "- Call the nn_model_2 function and store the model in a new variable.\n",
        "- Print the summary of the model.\n",
        "- Fit on the train data with a **validation split of 0.2, batch size = 128, verbose = 1, and epochs = 30**. Store the model building history to use later for visualization."
      ]
    },
    {
      "cell_type": "code",
      "execution_count": null,
      "metadata": {
        "id": "H18nnI0teuei"
      },
      "outputs": [],
      "source": [
        "clear_backend_and_gen_random_seed()"
      ]
    },
    {
      "cell_type": "code",
      "execution_count": null,
      "metadata": {
        "id": "-Rkpt2BHecQH"
      },
      "outputs": [],
      "source": [
        "# Intializing a sequential model\n",
        "nn_model_2 = Sequential()\n",
        "\n",
        "# First hidden layer with 256 nodes and the relu activation and the input shape = (1024, )\n",
        "nn_model_2.add(Dense(256, input_shape = (1024,), activation = 'relu'))\n",
        "\n",
        "# Second hidden layer with 128 nodes and the relu activation\n",
        "nn_model_2.add(Dense(128, activation = 'relu'))\n",
        "\n",
        "# Dropout layer with the rate equal to 0.2 switch off 20% neurons to reduce overfitting\n",
        "nn_model_2.add(Dropout(0.2))\n",
        "\n",
        "# Third hidden layer with 64 nodes and the relu activation\n",
        "nn_model_2.add(Dense(64, activation = 'relu'))\n",
        "\n",
        "# Fourth hidden layer with 64 nodes and the relu activation\n",
        "nn_model_2.add(Dense(64, activation = 'relu'))\n",
        "\n",
        "# Fifth hidden layer with 32 nodes and the relu activation\n",
        "nn_model_2.add(Dense(32, activation = 'relu'))\n",
        "\n",
        "# BatchNormalization layer, it might be helpful to remove the problem of vanishing and exploding gradients\n",
        "nn_model_2.add(BatchNormalization())\n",
        "\n",
        "# Output layer with activation as 'softmax' and number of nodes equal to the number of classes, i.e., 10\n",
        "nn_model_2.add(Dense(10, activation = 'softmax'))"
      ]
    },
    {
      "cell_type": "code",
      "execution_count": null,
      "metadata": {
        "id": "lagSE2Gji8H2"
      },
      "outputs": [],
      "source": [
        "# Using Adam Optimizer\n",
        "optimizer = Adam(learning_rate = 0.0005)"
      ]
    },
    {
      "cell_type": "code",
      "execution_count": null,
      "metadata": {
        "id": "EEPYLFIPnSDP"
      },
      "outputs": [],
      "source": [
        "nn_model_2.compile(optimizer = optimizer, loss = 'categorical_crossentropy',  metrics = ['accuracy'])"
      ]
    },
    {
      "cell_type": "code",
      "execution_count": null,
      "metadata": {
        "colab": {
          "base_uri": "https://localhost:8080/"
        },
        "id": "U7HnFGyXiM3I",
        "outputId": "a4fe4a00-b8ac-4e44-bb38-219c8be4e007"
      },
      "outputs": [
        {
          "name": "stdout",
          "output_type": "stream",
          "text": [
            "Model: \"sequential\"\n",
            "_________________________________________________________________\n",
            " Layer (type)                Output Shape              Param #   \n",
            "=================================================================\n",
            " dense (Dense)               (None, 256)               262400    \n",
            "                                                                 \n",
            " dense_1 (Dense)             (None, 128)               32896     \n",
            "                                                                 \n",
            " dropout (Dropout)           (None, 128)               0         \n",
            "                                                                 \n",
            " dense_2 (Dense)             (None, 64)                8256      \n",
            "                                                                 \n",
            " dense_3 (Dense)             (None, 64)                4160      \n",
            "                                                                 \n",
            " dense_4 (Dense)             (None, 32)                2080      \n",
            "                                                                 \n",
            " batch_normalization (Batch  (None, 32)                128       \n",
            " Normalization)                                                  \n",
            "                                                                 \n",
            " dense_5 (Dense)             (None, 10)                330       \n",
            "                                                                 \n",
            "=================================================================\n",
            "Total params: 310250 (1.18 MB)\n",
            "Trainable params: 310186 (1.18 MB)\n",
            "Non-trainable params: 64 (256.00 Byte)\n",
            "_________________________________________________________________\n"
          ]
        }
      ],
      "source": [
        "# Generating the summary of the model\n",
        "nn_model_2.summary()"
      ]
    },
    {
      "cell_type": "markdown",
      "metadata": {
        "id": "f-ZjNBmH0XIV"
      },
      "source": [
        "### **Build and train the new ANN model as per the above mentioned architecture**"
      ]
    },
    {
      "cell_type": "code",
      "execution_count": null,
      "metadata": {
        "colab": {
          "base_uri": "https://localhost:8080/"
        },
        "id": "TcVybCYgju7V",
        "outputId": "28b4ef8f-05c2-4368-b7f4-ea4741ef09a0"
      },
      "outputs": [
        {
          "name": "stdout",
          "output_type": "stream",
          "text": [
            "Epoch 1/30\n",
            "261/263 [============================>.] - ETA: 0s - loss: 2.3301 - accuracy: 0.1008\n",
            "Epoch 1: val_accuracy improved from -inf to 0.09667, saving model to nn_model_2.h5\n",
            "263/263 [==============================] - 10s 15ms/step - loss: 2.3300 - accuracy: 0.1007 - val_loss: 2.3138 - val_accuracy: 0.0967\n",
            "Epoch 2/30\n",
            " 11/263 [>.............................] - ETA: 2s - loss: 2.3086 - accuracy: 0.0973"
          ]
        },
        {
          "name": "stderr",
          "output_type": "stream",
          "text": [
            "/usr/local/lib/python3.10/dist-packages/keras/src/engine/training.py:3103: UserWarning: You are saving your model as an HDF5 file via `model.save()`. This file format is considered legacy. We recommend using instead the native Keras format, e.g. `model.save('my_model.keras')`.\n",
            "  saving_api.save_model(\n"
          ]
        },
        {
          "name": "stdout",
          "output_type": "stream",
          "text": [
            "262/263 [============================>.] - ETA: 0s - loss: 2.3042 - accuracy: 0.1028\n",
            "Epoch 2: val_accuracy improved from 0.09667 to 0.11000, saving model to nn_model_2.h5\n",
            "263/263 [==============================] - 4s 14ms/step - loss: 2.3042 - accuracy: 0.1028 - val_loss: 2.3015 - val_accuracy: 0.1100\n",
            "Epoch 3/30\n",
            "263/263 [==============================] - ETA: 0s - loss: 2.1699 - accuracy: 0.1746\n",
            "Epoch 3: val_accuracy improved from 0.11000 to 0.27690, saving model to nn_model_2.h5\n",
            "263/263 [==============================] - 5s 19ms/step - loss: 2.1699 - accuracy: 0.1746 - val_loss: 2.0564 - val_accuracy: 0.2769\n",
            "Epoch 4/30\n",
            "262/263 [============================>.] - ETA: 0s - loss: 1.6408 - accuracy: 0.4236\n",
            "Epoch 4: val_accuracy improved from 0.27690 to 0.52726, saving model to nn_model_2.h5\n",
            "263/263 [==============================] - 4s 14ms/step - loss: 1.6402 - accuracy: 0.4238 - val_loss: 1.4454 - val_accuracy: 0.5273\n",
            "Epoch 5/30\n",
            "260/263 [============================>.] - ETA: 0s - loss: 1.3615 - accuracy: 0.5384\n",
            "Epoch 5: val_accuracy improved from 0.52726 to 0.57012, saving model to nn_model_2.h5\n",
            "263/263 [==============================] - 4s 13ms/step - loss: 1.3608 - accuracy: 0.5385 - val_loss: 1.3064 - val_accuracy: 0.5701\n",
            "Epoch 6/30\n",
            "261/263 [============================>.] - ETA: 0s - loss: 1.2487 - accuracy: 0.5871\n",
            "Epoch 6: val_accuracy improved from 0.57012 to 0.63881, saving model to nn_model_2.h5\n",
            "263/263 [==============================] - 3s 12ms/step - loss: 1.2484 - accuracy: 0.5870 - val_loss: 1.1214 - val_accuracy: 0.6388\n",
            "Epoch 7/30\n",
            "260/263 [============================>.] - ETA: 0s - loss: 1.1570 - accuracy: 0.6251\n",
            "Epoch 7: val_accuracy improved from 0.63881 to 0.64000, saving model to nn_model_2.h5\n",
            "263/263 [==============================] - 5s 18ms/step - loss: 1.1568 - accuracy: 0.6251 - val_loss: 1.1023 - val_accuracy: 0.6400\n",
            "Epoch 8/30\n",
            "261/263 [============================>.] - ETA: 0s - loss: 1.0926 - accuracy: 0.6475\n",
            "Epoch 8: val_accuracy improved from 0.64000 to 0.65988, saving model to nn_model_2.h5\n",
            "263/263 [==============================] - 4s 17ms/step - loss: 1.0930 - accuracy: 0.6474 - val_loss: 1.0609 - val_accuracy: 0.6599\n",
            "Epoch 9/30\n",
            "263/263 [==============================] - ETA: 0s - loss: 1.0410 - accuracy: 0.6645\n",
            "Epoch 9: val_accuracy improved from 0.65988 to 0.69881, saving model to nn_model_2.h5\n",
            "263/263 [==============================] - 4s 14ms/step - loss: 1.0410 - accuracy: 0.6645 - val_loss: 0.9592 - val_accuracy: 0.6988\n",
            "Epoch 10/30\n",
            "260/263 [============================>.] - ETA: 0s - loss: 1.0026 - accuracy: 0.6768\n",
            "Epoch 10: val_accuracy did not improve from 0.69881\n",
            "263/263 [==============================] - 4s 14ms/step - loss: 1.0024 - accuracy: 0.6768 - val_loss: 1.0474 - val_accuracy: 0.6630\n",
            "Epoch 11/30\n",
            "262/263 [============================>.] - ETA: 0s - loss: 0.9697 - accuracy: 0.6919\n",
            "Epoch 11: val_accuracy improved from 0.69881 to 0.71345, saving model to nn_model_2.h5\n",
            "263/263 [==============================] - 5s 20ms/step - loss: 0.9695 - accuracy: 0.6920 - val_loss: 0.9080 - val_accuracy: 0.7135\n",
            "Epoch 12/30\n",
            "260/263 [============================>.] - ETA: 0s - loss: 0.9441 - accuracy: 0.7003\n",
            "Epoch 12: val_accuracy did not improve from 0.71345\n",
            "263/263 [==============================] - 4s 16ms/step - loss: 0.9443 - accuracy: 0.7001 - val_loss: 0.9193 - val_accuracy: 0.7099\n",
            "Epoch 13/30\n",
            "260/263 [============================>.] - ETA: 0s - loss: 0.9166 - accuracy: 0.7079\n",
            "Epoch 13: val_accuracy improved from 0.71345 to 0.72476, saving model to nn_model_2.h5\n",
            "263/263 [==============================] - 3s 13ms/step - loss: 0.9161 - accuracy: 0.7080 - val_loss: 0.8728 - val_accuracy: 0.7248\n",
            "Epoch 14/30\n",
            "261/263 [============================>.] - ETA: 0s - loss: 0.9080 - accuracy: 0.7125\n",
            "Epoch 14: val_accuracy did not improve from 0.72476\n",
            "263/263 [==============================] - 3s 13ms/step - loss: 0.9076 - accuracy: 0.7126 - val_loss: 0.8793 - val_accuracy: 0.7201\n",
            "Epoch 15/30\n",
            "263/263 [==============================] - ETA: 0s - loss: 0.8895 - accuracy: 0.7186\n",
            "Epoch 15: val_accuracy improved from 0.72476 to 0.73405, saving model to nn_model_2.h5\n",
            "263/263 [==============================] - 5s 19ms/step - loss: 0.8895 - accuracy: 0.7186 - val_loss: 0.8371 - val_accuracy: 0.7340\n",
            "Epoch 16/30\n",
            "263/263 [==============================] - ETA: 0s - loss: 0.8590 - accuracy: 0.7280\n",
            "Epoch 16: val_accuracy did not improve from 0.73405\n",
            "263/263 [==============================] - 4s 17ms/step - loss: 0.8590 - accuracy: 0.7280 - val_loss: 0.8546 - val_accuracy: 0.7277\n",
            "Epoch 17/30\n",
            "262/263 [============================>.] - ETA: 0s - loss: 0.8564 - accuracy: 0.7273\n",
            "Epoch 17: val_accuracy improved from 0.73405 to 0.73833, saving model to nn_model_2.h5\n",
            "263/263 [==============================] - 3s 13ms/step - loss: 0.8568 - accuracy: 0.7273 - val_loss: 0.8223 - val_accuracy: 0.7383\n",
            "Epoch 18/30\n",
            "262/263 [============================>.] - ETA: 0s - loss: 0.8311 - accuracy: 0.7356\n",
            "Epoch 18: val_accuracy improved from 0.73833 to 0.74071, saving model to nn_model_2.h5\n",
            "263/263 [==============================] - 3s 13ms/step - loss: 0.8312 - accuracy: 0.7356 - val_loss: 0.8244 - val_accuracy: 0.7407\n",
            "Epoch 19/30\n",
            "262/263 [============================>.] - ETA: 0s - loss: 0.8288 - accuracy: 0.7372\n",
            "Epoch 19: val_accuracy did not improve from 0.74071\n",
            "263/263 [==============================] - 4s 16ms/step - loss: 0.8291 - accuracy: 0.7371 - val_loss: 0.8251 - val_accuracy: 0.7390\n",
            "Epoch 20/30\n",
            "260/263 [============================>.] - ETA: 0s - loss: 0.8173 - accuracy: 0.7399\n",
            "Epoch 20: val_accuracy improved from 0.74071 to 0.76202, saving model to nn_model_2.h5\n",
            "263/263 [==============================] - 5s 18ms/step - loss: 0.8162 - accuracy: 0.7404 - val_loss: 0.7838 - val_accuracy: 0.7620\n",
            "Epoch 21/30\n",
            "262/263 [============================>.] - ETA: 0s - loss: 0.8022 - accuracy: 0.7453\n",
            "Epoch 21: val_accuracy did not improve from 0.76202\n",
            "263/263 [==============================] - 3s 13ms/step - loss: 0.8021 - accuracy: 0.7452 - val_loss: 0.7785 - val_accuracy: 0.7565\n",
            "Epoch 22/30\n",
            "261/263 [============================>.] - ETA: 0s - loss: 0.7960 - accuracy: 0.7454\n",
            "Epoch 22: val_accuracy did not improve from 0.76202\n",
            "263/263 [==============================] - 4s 15ms/step - loss: 0.7961 - accuracy: 0.7456 - val_loss: 0.7970 - val_accuracy: 0.7454\n",
            "Epoch 23/30\n",
            "261/263 [============================>.] - ETA: 0s - loss: 0.7705 - accuracy: 0.7555\n",
            "Epoch 23: val_accuracy did not improve from 0.76202\n",
            "263/263 [==============================] - 4s 17ms/step - loss: 0.7706 - accuracy: 0.7554 - val_loss: 0.8123 - val_accuracy: 0.7467\n",
            "Epoch 24/30\n",
            "260/263 [============================>.] - ETA: 0s - loss: 0.7642 - accuracy: 0.7558\n",
            "Epoch 24: val_accuracy improved from 0.76202 to 0.76952, saving model to nn_model_2.h5\n",
            "263/263 [==============================] - 5s 19ms/step - loss: 0.7640 - accuracy: 0.7560 - val_loss: 0.7439 - val_accuracy: 0.7695\n",
            "Epoch 25/30\n",
            "263/263 [==============================] - ETA: 0s - loss: 0.7580 - accuracy: 0.7611\n",
            "Epoch 25: val_accuracy did not improve from 0.76952\n",
            "263/263 [==============================] - 4s 14ms/step - loss: 0.7580 - accuracy: 0.7611 - val_loss: 0.7591 - val_accuracy: 0.7610\n",
            "Epoch 26/30\n",
            "263/263 [==============================] - ETA: 0s - loss: 0.7625 - accuracy: 0.7589\n",
            "Epoch 26: val_accuracy improved from 0.76952 to 0.77167, saving model to nn_model_2.h5\n",
            "263/263 [==============================] - 4s 15ms/step - loss: 0.7625 - accuracy: 0.7589 - val_loss: 0.7496 - val_accuracy: 0.7717\n",
            "Epoch 27/30\n",
            "261/263 [============================>.] - ETA: 0s - loss: 0.7433 - accuracy: 0.7633\n",
            "Epoch 27: val_accuracy improved from 0.77167 to 0.77238, saving model to nn_model_2.h5\n",
            "263/263 [==============================] - 5s 19ms/step - loss: 0.7435 - accuracy: 0.7633 - val_loss: 0.7357 - val_accuracy: 0.7724\n",
            "Epoch 28/30\n",
            "260/263 [============================>.] - ETA: 0s - loss: 0.7299 - accuracy: 0.7679\n",
            "Epoch 28: val_accuracy improved from 0.77238 to 0.79036, saving model to nn_model_2.h5\n",
            "263/263 [==============================] - 4s 17ms/step - loss: 0.7304 - accuracy: 0.7677 - val_loss: 0.6966 - val_accuracy: 0.7904\n",
            "Epoch 29/30\n",
            "259/263 [============================>.] - ETA: 0s - loss: 0.7350 - accuracy: 0.7664\n",
            "Epoch 29: val_accuracy did not improve from 0.79036\n",
            "263/263 [==============================] - 3s 12ms/step - loss: 0.7363 - accuracy: 0.7663 - val_loss: 0.7326 - val_accuracy: 0.7724\n",
            "Epoch 30/30\n",
            "262/263 [============================>.] - ETA: 0s - loss: 0.7220 - accuracy: 0.7720\n",
            "Epoch 30: val_accuracy did not improve from 0.79036\n",
            "263/263 [==============================] - 3s 12ms/step - loss: 0.7224 - accuracy: 0.7718 - val_loss: 0.8329 - val_accuracy: 0.7490\n"
          ]
        }
      ],
      "source": [
        "# Fitting the model with 30 epochs and validation_split as 0.2\n",
        "\n",
        "# Early stopping if model validation loss doesn't improve for the next 5 epochs\n",
        "es = EarlyStopping(monitor = 'val_loss', mode = 'min', verbose = 1, patience = 5)\n",
        "\n",
        "# Callback to save the best model\n",
        "mc = ModelCheckpoint('nn_model_2.h5', monitor = 'val_accuracy', mode = 'max', verbose = 1, save_best_only = True)\n",
        "\n",
        "nn_model_2_history=nn_model_2.fit(X_train_flat,\n",
        "          y_train_encoded,\n",
        "          epochs = 30,\n",
        "          batch_size= 128,\n",
        "          validation_split = 0.2,\n",
        "          verbose = 1,\n",
        "          callbacks = [mc,es])"
      ]
    },
    {
      "cell_type": "markdown",
      "metadata": {
        "id": "ZJYsvjmw0XIX"
      },
      "source": [
        "### **Plot the Training and Validation Accuracies and write down your Observations.**"
      ]
    },
    {
      "cell_type": "code",
      "execution_count": null,
      "metadata": {
        "colab": {
          "base_uri": "https://localhost:8080/",
          "height": 472
        },
        "id": "vO4nhAyN0LGv",
        "outputId": "721f445a-b1cd-4fbe-cd15-77a94a79a1cb"
      },
      "outputs": [
        {
          "data": {
            "image/png": "[encoded data removed]",
            "text/plain": [
              "<Figure size 640x480 with 1 Axes>"
            ]
          },
          "metadata": {},
          "output_type": "display_data"
        }
      ],
      "source": [
        "# Plotting the training and validation accuracies for each epoch\n",
        "plot_model_accuracies(nn_model_2_history)"
      ]
    },
    {
      "cell_type": "markdown",
      "metadata": {
        "id": "0tXHg9IZpLmm"
      },
      "source": [
        "### **Checking Test Accuracy**"
      ]
    },
    {
      "cell_type": "code",
      "execution_count": null,
      "metadata": {
        "colab": {
          "base_uri": "https://localhost:8080/"
        },
        "id": "t0VSPTvhoZ4N",
        "outputId": "3d363a03-8d51-4cd9-ad89-06c80e1b1d98"
      },
      "outputs": [
        {
          "name": "stdout",
          "output_type": "stream",
          "text": [
            "563/563 [==============================] - 2s 4ms/step - loss: 0.8357 - accuracy: 0.7447\n"
          ]
        },
        {
          "data": {
            "text/plain": [
              "[0.835655152797699, 0.7447222471237183]"
            ]
          },
          "execution_count": 35,
          "metadata": {},
          "output_type": "execute_result"
        }
      ],
      "source": [
        "nn_model_2.evaluate(X_test_flat, (y_test_encoded))"
      ]
    },
    {
      "cell_type": "markdown",
      "metadata": {
        "id": "VPW1LlD61RDn"
      },
      "source": [
        "**Observations:**\n",
        "* ANN model 2 has more trainable parameters - 310186 as opposed to 68010 for ANN model 1.\n",
        "* The ANN model 2 is outperforming the ANN model 1 after ~6 epochs.\n",
        "* The loss for ANN model 2 is smaller ~0.8 as opposed to ~1.04 for ANN model 1 and the accuracy is higher ~0.75 compared to ~0.67 for ANN model 1.\n",
        "* After ~12 epochs the curves are flattening out, with no significant improvement.\n",
        "* Early stopping was no triggered.\n",
        "* After ~7 epochs the validation accuracy started fluctuating, as the train accuracy continued to improve."
      ]
    },
    {
      "cell_type": "markdown",
      "metadata": {
        "id": "8kuXx9Bvu00f"
      },
      "source": [
        "## **Predictions on the test data**\n",
        "\n",
        "- Make predictions on the test set using the second model.\n",
        "- Print the obtained results using the classification report and the confusion matrix.\n",
        "- Final observations on the obtained results."
      ]
    },
    {
      "cell_type": "code",
      "execution_count": null,
      "metadata": {
        "colab": {
          "base_uri": "https://localhost:8080/"
        },
        "id": "xbWMEtTj5Ad0",
        "outputId": "5eca73d5-2512-46b6-e451-70b183b48e8f"
      },
      "outputs": [
        {
          "name": "stdout",
          "output_type": "stream",
          "text": [
            "563/563 [==============================] - 2s 3ms/step\n"
          ]
        }
      ],
      "source": [
        "from sklearn.metrics import classification_report\n",
        "from sklearn.metrics import confusion_matrix\n",
        "\n",
        "pred = nn_model_2.predict(X_test_flat)\n",
        "pred = np.argmax(pred, axis = 1)\n",
        "y_true = np.argmax(y_test_encoded, axis = 1)\n"
      ]
    },
    {
      "cell_type": "markdown",
      "metadata": {
        "id": "i3li8Ib08yts"
      },
      "source": [
        "**Note:** Earlier, we noticed that each entry of the target variable is a one-hot encoded vector but to print the classification report and confusion matrix, we must convert each entry of y_test to a single label."
      ]
    },
    {
      "cell_type": "markdown",
      "metadata": {
        "id": "nXE1jvc2v7rj"
      },
      "source": [
        "We already have categories stored earlier, we can now use it for our report"
      ]
    },
    {
      "cell_type": "code",
      "execution_count": null,
      "metadata": {
        "id": "hUmq2GfAu-jh"
      },
      "outputs": [],
      "source": [
        "# Convert list of categories/labels to list of strings\n",
        "categories = [str(x) for x in categories.tolist()]"
      ]
    },
    {
      "cell_type": "code",
      "execution_count": null,
      "metadata": {
        "colab": {
          "base_uri": "https://localhost:8080/"
        },
        "id": "ViuuNUB-vFnM",
        "outputId": "1abe6c56-acfc-408b-a37a-ac1ad61e5f09"
      },
      "outputs": [
        {
          "data": {
            "text/plain": [
              "['0', '1', '2', '3', '4', '5', '6', '7', '8', '9']"
            ]
          },
          "execution_count": 38,
          "metadata": {},
          "output_type": "execute_result"
        }
      ],
      "source": [
        "categories"
      ]
    },
    {
      "cell_type": "markdown",
      "metadata": {
        "id": "1_SIoopr0XIg"
      },
      "source": [
        "### **Print the classification report and the confusion matrix for the test predictions. Write your observations on the final results.**"
      ]
    },
    {
      "cell_type": "code",
      "execution_count": null,
      "metadata": {
        "colab": {
          "base_uri": "https://localhost:8080/"
        },
        "id": "xRddeJ-3EHT1",
        "outputId": "7061d22c-4cbe-41b1-8db8-fa73ac77eeab"
      },
      "outputs": [
        {
          "name": "stdout",
          "output_type": "stream",
          "text": [
            "              precision    recall  f1-score   support\n",
            "\n",
            "           0       0.86      0.70      0.77      1814\n",
            "           1       0.59      0.89      0.71      1828\n",
            "           2       0.76      0.77      0.76      1803\n",
            "           3       0.78      0.67      0.72      1719\n",
            "           4       0.73      0.85      0.79      1812\n",
            "           5       0.82      0.67      0.73      1768\n",
            "           6       0.76      0.72      0.74      1832\n",
            "           7       0.75      0.82      0.78      1808\n",
            "           8       0.71      0.71      0.71      1812\n",
            "           9       0.83      0.65      0.73      1804\n",
            "\n",
            "    accuracy                           0.74     18000\n",
            "   macro avg       0.76      0.74      0.74     18000\n",
            "weighted avg       0.76      0.74      0.74     18000\n",
            "\n"
          ]
        }
      ],
      "source": [
        "# Printing the classification report\n",
        "print(classification_report(y_true, pred))"
      ]
    },
    {
      "cell_type": "code",
      "execution_count": null,
      "metadata": {
        "colab": {
          "base_uri": "https://localhost:8080/",
          "height": 466
        },
        "id": "Cnnwd95prwbI",
        "outputId": "948a9b54-25bf-4b44-cbdc-33ea0a6f3125"
      },
      "outputs": [
        {
          "data": {
            "image/png": "[encoded data removed]",
            "text/plain": [
              "<Figure size 800x500 with 2 Axes>"
            ]
          },
          "metadata": {},
          "output_type": "display_data"
        }
      ],
      "source": [
        "# Plotting the heatmap using confusion matrix\n",
        "cm = confusion_matrix(y_true, pred)\n",
        "plt.figure(figsize = (8, 5))\n",
        "sns.heatmap(cm, annot = True,  fmt = '.0f', xticklabels = categories, yticklabels=categories)\n",
        "plt.ylabel('Actual')\n",
        "plt.xlabel('Predicted')\n",
        "plt.yticks(rotation=0)\n",
        "plt.show()"
      ]
    },
    {
      "cell_type": "markdown",
      "metadata": {
        "id": "DjErl4GA2u9s"
      },
      "source": [
        "**Final Observations:**\n",
        "* ANN Model 2 prediction F1 score accuracy is ~74%\n",
        "* There are many misclassifications, especially for classes: \"0\",\"3\",\"5\",\"9\".\n",
        "* Example: 7 was misclassified as 1 for 174 times in this dataset. The least misclassified classes are \"1\" and \"4\"."
      ]
    },
    {
      "cell_type": "markdown",
      "metadata": {
        "id": "xkR4JioMsuIV"
      },
      "source": [
        "## **Using Convolutional Neural Networks**"
      ]
    },
    {
      "cell_type": "markdown",
      "metadata": {
        "id": "YN2YgkGL_6xQ"
      },
      "source": [
        "### **Load the dataset again and split the data into the train and the test dataset.**"
      ]
    },
    {
      "cell_type": "code",
      "execution_count": null,
      "metadata": {
        "colab": {
          "base_uri": "https://localhost:8080/"
        },
        "id": "orU6DAm7QuKa",
        "outputId": "d41b62c1-0494-4399-aa16-4ea4381ba1ac"
      },
      "outputs": [
        {
          "name": "stdout",
          "output_type": "stream",
          "text": [
            "DB loaded: <KeysViewHDF5 ['X_test', 'X_train', 'X_val', 'y_test', 'y_train', 'y_val']>\n"
          ]
        }
      ],
      "source": [
        "X_train,X_val,X_test,y_train,y_val,y_test = load_dataset()"
      ]
    },
    {
      "cell_type": "markdown",
      "metadata": {
        "id": "6fPqF_xGAjQB"
      },
      "source": [
        "Check the number of images in the training and the testing dataset."
      ]
    },
    {
      "cell_type": "code",
      "execution_count": null,
      "metadata": {
        "id": "gTLJZWjPAjQB"
      },
      "outputs": [],
      "source": [
        "X_train.shape, X_val.shape, X_test.shape"
      ]
    },
    {
      "cell_type": "code",
      "execution_count": null,
      "metadata": {
        "colab": {
          "base_uri": "https://localhost:8080/"
        },
        "id": "Ws0CVKJe0KdR",
        "outputId": "ea3ee6be-99d7-4688-9065-35e89c07d0eb"
      },
      "outputs": [
        {
          "data": {
            "text/plain": [
              "((42000,), (60000,), (18000,))"
            ]
          },
          "execution_count": 79,
          "metadata": {},
          "output_type": "execute_result"
        }
      ],
      "source": [
        "y_train.shape, y_val.shape, y_test.shape"
      ]
    },
    {
      "cell_type": "markdown",
      "metadata": {
        "id": "9qyMiP_rAjQB"
      },
      "source": [
        "**Observation:**\n",
        "* There are 42K images in the training dataset 60K in validation and 18K in test.\n",
        "* Each image is of size 32*32.\n",
        "* There are a corresponding number of labels 42K, 60K, 18K."
      ]
    },
    {
      "cell_type": "markdown",
      "metadata": {
        "id": "OJndFfEVAjQG"
      },
      "source": [
        "## **Data preparation**\n",
        "\n",
        "- Print the shape and the array of pixels for the first image in the training dataset.\n",
        "- Reshape the train and the test dataset because we always have to give a 4D array as input to CNNs.\n",
        "- Normalize the train and the test dataset by dividing by 255.\n",
        "- Print the new shapes of the train and the test dataset.\n",
        "- One-hot encode the target variable."
      ]
    },
    {
      "cell_type": "code",
      "execution_count": null,
      "metadata": {
        "colab": {
          "base_uri": "https://localhost:8080/"
        },
        "id": "W4uXqKz1AjQG",
        "outputId": "491bbfbd-0333-460a-80c9-1e9a19813547"
      },
      "outputs": [
        {
          "name": "stdout",
          "output_type": "stream",
          "text": [
            "Shape of an image: (32, 32),\n",
            "\n",
            " Array of pixels: \n",
            "[[ 33.0704  30.2601  26.852  ...  71.4471  58.2204  42.9939]\n",
            " [ 25.2283  25.5533  29.9765 ... 113.0209 103.3639  84.2949]\n",
            " [ 26.2775  22.6137  40.4763 ... 113.3028 121.775  115.4228]\n",
            " ...\n",
            " [ 28.5502  36.212   45.0801 ...  24.1359  25.0927  26.0603]\n",
            " [ 38.4352  26.4733  23.2717 ...  28.1094  29.4683  30.0661]\n",
            " [ 50.2984  26.0773  24.0389 ...  49.6682  50.853   53.0377]]\n"
          ]
        }
      ],
      "source": [
        "#Printing shape and the array of pixels for the first image\n",
        "print(f\"Shape of an image: {X_train[0].shape},\\n\\n Array of pixels: \\n{X_train[0]}\")"
      ]
    },
    {
      "cell_type": "markdown",
      "metadata": {
        "id": "at30iiX1__7F"
      },
      "source": [
        "Reshape the dataset to be able to pass them to CNNs. Remember that we always have to give a 4D array as input to CNNs"
      ]
    },
    {
      "cell_type": "code",
      "execution_count": null,
      "metadata": {
        "id": "D9YPwf9ysqWU"
      },
      "outputs": [],
      "source": [
        "# Reshape for color image\n",
        "X_train_4D = X_train.reshape(X_train.shape[0], 32, 32, 1)\n",
        "X_test_4D = X_test.reshape(X_test.shape[0], 32, 32, 1)\n",
        "X_val_4D = X_val.reshape(X_val.shape[0], 32, 32, 1)"
      ]
    },
    {
      "cell_type": "markdown",
      "metadata": {
        "id": "ODYnoLfaAEGx"
      },
      "source": [
        "Normalize inputs from 0-255 to 0-1"
      ]
    },
    {
      "cell_type": "code",
      "execution_count": null,
      "metadata": {
        "id": "eOGLAn40AjQG"
      },
      "outputs": [],
      "source": [
        "X_train_4D = X_train_4D/255\n",
        "X_test_4D = X_test_4D/255\n",
        "X_val_4D = X_val_4D/255"
      ]
    },
    {
      "cell_type": "markdown",
      "metadata": {
        "id": "cS9T4HqjAoyM"
      },
      "source": [
        "Print New shape of Training and Test"
      ]
    },
    {
      "cell_type": "code",
      "execution_count": null,
      "metadata": {
        "colab": {
          "base_uri": "https://localhost:8080/"
        },
        "id": "5qf8S5NQAjQG",
        "outputId": "d2cb19c9-fd7f-4608-e2f2-4dab32e6dad3"
      },
      "outputs": [
        {
          "data": {
            "text/plain": [
              "((42000, 32, 32, 1), (18000, 32, 32, 1), (60000, 32, 32, 1))"
            ]
          },
          "execution_count": 83,
          "metadata": {},
          "output_type": "execute_result"
        }
      ],
      "source": [
        "X_train_4D.shape, X_test_4D.shape, X_val_4D.shape"
      ]
    },
    {
      "cell_type": "code",
      "execution_count": null,
      "metadata": {
        "colab": {
          "base_uri": "https://localhost:8080/"
        },
        "id": "__5RlCHxqPEp",
        "outputId": "33119fc1-4611-485d-9ea5-e81a0a1a651f"
      },
      "outputs": [
        {
          "data": {
            "text/plain": [
              "((42000,), (18000,), (60000,))"
            ]
          },
          "execution_count": 84,
          "metadata": {},
          "output_type": "execute_result"
        }
      ],
      "source": [
        "y_train.shape, y_test.shape, y_val.shape"
      ]
    },
    {
      "cell_type": "markdown",
      "metadata": {
        "id": "10QaOV-xR7Jn"
      },
      "source": [
        "### **One-hot encode the labels in the target variable y_train and y_test.**"
      ]
    },
    {
      "cell_type": "code",
      "execution_count": null,
      "metadata": {
        "id": "3KHWFWKMAjQH"
      },
      "outputs": [],
      "source": [
        "#encoding\n",
        "y_train_encoded = to_categorical(y_train, 10)\n",
        "y_test_encoded = to_categorical(y_test, 10)\n",
        "y_validation_encoded = to_categorical(y_val, 10)"
      ]
    },
    {
      "cell_type": "code",
      "execution_count": null,
      "metadata": {
        "colab": {
          "base_uri": "https://localhost:8080/"
        },
        "id": "mN00MkSN685i",
        "outputId": "9827dc4f-3698-4043-a0d1-bde4a292f62a"
      },
      "outputs": [
        {
          "name": "stdout",
          "output_type": "stream",
          "text": [
            "Hot encoding for: 2, is: [0. 0. 1. 0. 0. 0. 0. 0. 0. 0.]\n"
          ]
        }
      ],
      "source": [
        "#sanity check for encoding\n",
        "print(f\"Hot encoding for: {y_train[0]}, is: {y_train_encoded[0]}\")"
      ]
    },
    {
      "cell_type": "markdown",
      "metadata": {
        "id": "H-8jYVQTAjQH"
      },
      "source": [
        "**Observation:**\n",
        "* The data is now in the format of 4D so we can pass it into CNN:\n",
        "  * Number of images, width, height, RGB\n",
        "* The labels have been encoded\n",
        "* Train has 42K images, Test 18K, and Validation 60K images with a matching number of labels"
      ]
    },
    {
      "cell_type": "markdown",
      "metadata": {
        "id": "Vjx_LI4_AjQH"
      },
      "source": [
        "## **Model Building**\n",
        "\n",
        "Now that we have done data preprocessing, let's build a CNN model.\n",
        "Fix the seed for random number generators"
      ]
    },
    {
      "cell_type": "code",
      "execution_count": null,
      "metadata": {
        "id": "ZY5pyF4-KDNt"
      },
      "outputs": [],
      "source": [
        "clear_backend_and_gen_random_seed()"
      ]
    },
    {
      "cell_type": "markdown",
      "metadata": {
        "id": "1JUAczhzAjQH"
      },
      "source": [
        "### **Model Architecture**\n",
        "- **Write a function** that returns a sequential model with the following architecture:\n",
        " - First Convolutional layer with **16 filters and the kernel size of 3x3**. Use the **'same' padding** and provide the **input shape = (32, 32, 1)**\n",
        " - Add a **LeakyRelu layer** with the **slope equal to 0.1**\n",
        " - Second Convolutional layer with **32 filters and the kernel size of 3x3 with 'same' padding**\n",
        " - Another **LeakyRelu** with the **slope equal to 0.1**\n",
        " - A **max-pooling layer** with a **pool size of 2x2**\n",
        " - **Flatten** the output from the previous layer\n",
        " - Add a **dense layer with 32 nodes**\n",
        " - Add a **LeakyRelu layer with the slope equal to 0.1**\n",
        " - Add the final **output layer with nodes equal to the number of classes, i.e., 10** and **'softmax' as the activation function**\n",
        " - Compile the model with the **loss equal to categorical_crossentropy, optimizer equal to Adam(learning_rate = 0.001), and metric equal to 'accuracy'**. Do not fit the model here, just return the compiled model.\n",
        "- Call the function cnn_model_1 and store the output in a new variable.\n",
        "- Print the summary of the model.\n",
        "- Fit the model on the training data with a **validation split of 0.2, batch size = 32, verbose = 1, and epochs = 20**. Store the model building history to use later for visualization."
      ]
    },
    {
      "cell_type": "code",
      "execution_count": null,
      "metadata": {
        "id": "9Zcn6WTdrWyw"
      },
      "outputs": [],
      "source": [
        "# Intializing a sequential model\n",
        "cnn_model_1 = Sequential()\n",
        "\n",
        "# First Convolutional layer with 16 filters and the kernel size of 3x3. 'same' padding and input shape = (32, 32, 1)\n",
        "cnn_model_1.add(Conv2D(16, (3, 3), padding = \"same\", input_shape = (32, 32, 1)))\n",
        "\n",
        "# Adding LeakyRelu activation function with a negative slope of 0.1\n",
        "cnn_model_1.add(LeakyReLU(0.1))\n",
        "\n",
        "# Second Convolutional layer with 32 filters and the kernel size of 3x3 with 'same' padding\n",
        "cnn_model_1.add(Conv2D(32, (3, 3), padding = \"same\"))\n",
        "\n",
        "# Adding LeakyRelu activation function with a negative slope of 0.1\n",
        "cnn_model_1.add(LeakyReLU(0.1))\n",
        "\n",
        "# A max-pooling layer with a pool size of 2x2\n",
        "cnn_model_1.add(MaxPooling2D(pool_size = (2, 2)))\n",
        "\n",
        "# Flatten the output from the previous layer\n",
        "cnn_model_1.add(Flatten())\n",
        "\n",
        "# Dense layer with 32 nodes\n",
        "cnn_model_1.add(Dense(32))\n",
        "\n",
        "# Adding LeakyRelu activation function with a negative slope of 0.1\n",
        "cnn_model_1.add(LeakyReLU(0.1))\n",
        "\n",
        "# Adding the final output layer with nodes equal to the number of classes\n",
        "cnn_model_1.add(Dense(10, activation = 'softmax'))"
      ]
    },
    {
      "cell_type": "code",
      "execution_count": null,
      "metadata": {
        "id": "DjsIshmf5ELV"
      },
      "outputs": [],
      "source": [
        "# Compiling the model with the loss equal to categorical_crossentropy, optimizer equal to Adam(learning_rate = 0.001),\n",
        "# and metric equal to 'accuracy'.\n",
        "\n",
        "optimizer = Adam(learning_rate = 0.001)\n",
        "cnn_model_1.compile(optimizer = optimizer, loss = 'categorical_crossentropy',  metrics = ['accuracy'])"
      ]
    },
    {
      "cell_type": "code",
      "execution_count": null,
      "metadata": {
        "colab": {
          "base_uri": "https://localhost:8080/"
        },
        "id": "o9bPuwcK6T6d",
        "outputId": "739cddf3-47f4-45a8-e637-ed8ecfb65c2e"
      },
      "outputs": [
        {
          "name": "stdout",
          "output_type": "stream",
          "text": [
            "Model: \"sequential\"\n",
            "_________________________________________________________________\n",
            " Layer (type)                Output Shape              Param #   \n",
            "=================================================================\n",
            " conv2d (Conv2D)             (None, 32, 32, 16)        160       \n",
            "                                                                 \n",
            " leaky_re_lu (LeakyReLU)     (None, 32, 32, 16)        0         \n",
            "                                                                 \n",
            " conv2d_1 (Conv2D)           (None, 32, 32, 32)        4640      \n",
            "                                                                 \n",
            " leaky_re_lu_1 (LeakyReLU)   (None, 32, 32, 32)        0         \n",
            "                                                                 \n",
            " max_pooling2d (MaxPooling2  (None, 16, 16, 32)        0         \n",
            " D)                                                              \n",
            "                                                                 \n",
            " flatten (Flatten)           (None, 8192)              0         \n",
            "                                                                 \n",
            " dense (Dense)               (None, 32)                262176    \n",
            "                                                                 \n",
            " leaky_re_lu_2 (LeakyReLU)   (None, 32)                0         \n",
            "                                                                 \n",
            " dense_1 (Dense)             (None, 10)                330       \n",
            "                                                                 \n",
            "=================================================================\n",
            "Total params: 267306 (1.02 MB)\n",
            "Trainable params: 267306 (1.02 MB)\n",
            "Non-trainable params: 0 (0.00 Byte)\n",
            "_________________________________________________________________\n"
          ]
        }
      ],
      "source": [
        "# Generating the summary of the model\n",
        "cnn_model_1.summary()"
      ]
    },
    {
      "cell_type": "markdown",
      "metadata": {
        "id": "JWsAd45JKDNu"
      },
      "source": [
        "### **Build and train a CNN model as per the above mentioned architecture.**"
      ]
    },
    {
      "cell_type": "code",
      "execution_count": null,
      "metadata": {
        "colab": {
          "base_uri": "https://localhost:8080/"
        },
        "id": "L1jOYANWAjQH",
        "outputId": "6f2b39ec-789a-43c3-fe02-2d5a73e49e1e"
      },
      "outputs": [
        {
          "name": "stdout",
          "output_type": "stream",
          "text": [
            "Epoch 1/20\n",
            "1050/1050 [==============================] - ETA: 0s - loss: 1.1274 - accuracy: 0.6303\n",
            "Epoch 1: val_accuracy improved from -inf to 0.80869, saving model to cnn_model_1.h5\n",
            "1050/1050 [==============================] - 83s 76ms/step - loss: 1.1274 - accuracy: 0.6303 - val_loss: 0.6497 - val_accuracy: 0.8087\n",
            "Epoch 2/20\n",
            "1050/1050 [==============================] - ETA: 0s - loss: 0.5352 - accuracy: 0.8475\n",
            "Epoch 2: val_accuracy improved from 0.80869 to 0.84476, saving model to cnn_model_1.h5\n",
            "1050/1050 [==============================] - 77s 73ms/step - loss: 0.5352 - accuracy: 0.8475 - val_loss: 0.5254 - val_accuracy: 0.8448\n",
            "Epoch 3/20\n",
            "1050/1050 [==============================] - ETA: 0s - loss: 0.4416 - accuracy: 0.8700\n",
            "Epoch 3: val_accuracy improved from 0.84476 to 0.85321, saving model to cnn_model_1.h5\n",
            "1050/1050 [==============================] - 77s 74ms/step - loss: 0.4416 - accuracy: 0.8700 - val_loss: 0.5049 - val_accuracy: 0.8532\n",
            "Epoch 4/20\n",
            "1050/1050 [==============================] - ETA: 0s - loss: 0.3781 - accuracy: 0.8888\n",
            "Epoch 4: val_accuracy improved from 0.85321 to 0.87393, saving model to cnn_model_1.h5\n",
            "1050/1050 [==============================] - 74s 70ms/step - loss: 0.3781 - accuracy: 0.8888 - val_loss: 0.4486 - val_accuracy: 0.8739\n",
            "Epoch 5/20\n",
            "1050/1050 [==============================] - ETA: 0s - loss: 0.3330 - accuracy: 0.9004\n",
            "Epoch 5: val_accuracy did not improve from 0.87393\n",
            "1050/1050 [==============================] - 77s 73ms/step - loss: 0.3330 - accuracy: 0.9004 - val_loss: 0.4592 - val_accuracy: 0.8717\n",
            "Epoch 6/20\n",
            "1050/1050 [==============================] - ETA: 0s - loss: 0.2944 - accuracy: 0.9115\n",
            "Epoch 6: val_accuracy did not improve from 0.87393\n",
            "1050/1050 [==============================] - 78s 74ms/step - loss: 0.2944 - accuracy: 0.9115 - val_loss: 0.4640 - val_accuracy: 0.8735\n",
            "Epoch 7/20\n",
            "1050/1050 [==============================] - ETA: 0s - loss: 0.2622 - accuracy: 0.9216\n",
            "Epoch 7: val_accuracy improved from 0.87393 to 0.88071, saving model to cnn_model_1.h5\n",
            "1050/1050 [==============================] - 74s 71ms/step - loss: 0.2622 - accuracy: 0.9216 - val_loss: 0.4506 - val_accuracy: 0.8807\n",
            "Epoch 8/20\n",
            "1050/1050 [==============================] - ETA: 0s - loss: 0.2332 - accuracy: 0.9279\n",
            "Epoch 8: val_accuracy did not improve from 0.88071\n",
            "1050/1050 [==============================] - 76s 72ms/step - loss: 0.2332 - accuracy: 0.9279 - val_loss: 0.4920 - val_accuracy: 0.8681\n",
            "Epoch 9/20\n",
            "1050/1050 [==============================] - ETA: 0s - loss: 0.2094 - accuracy: 0.9365\n",
            "Epoch 9: val_accuracy did not improve from 0.88071\n",
            "1050/1050 [==============================] - 76s 73ms/step - loss: 0.2094 - accuracy: 0.9365 - val_loss: 0.4703 - val_accuracy: 0.8782\n",
            "Epoch 10/20\n",
            "1050/1050 [==============================] - ETA: 0s - loss: 0.1873 - accuracy: 0.9424\n",
            "Epoch 10: val_accuracy did not improve from 0.88071\n",
            "1050/1050 [==============================] - 76s 72ms/step - loss: 0.1873 - accuracy: 0.9424 - val_loss: 0.4922 - val_accuracy: 0.8782\n",
            "Epoch 11/20\n",
            "1050/1050 [==============================] - ETA: 0s - loss: 0.1663 - accuracy: 0.9471\n",
            "Epoch 11: val_accuracy did not improve from 0.88071\n",
            "1050/1050 [==============================] - 78s 74ms/step - loss: 0.1663 - accuracy: 0.9471 - val_loss: 0.5408 - val_accuracy: 0.8752\n",
            "Epoch 12/20\n",
            "1050/1050 [==============================] - ETA: 0s - loss: 0.1521 - accuracy: 0.9519\n",
            "Epoch 12: val_accuracy did not improve from 0.88071\n",
            "1050/1050 [==============================] - 81s 77ms/step - loss: 0.1521 - accuracy: 0.9519 - val_loss: 0.5748 - val_accuracy: 0.8701\n",
            "Epoch 13/20\n",
            "1050/1050 [==============================] - ETA: 0s - loss: 0.1331 - accuracy: 0.9571\n",
            "Epoch 13: val_accuracy did not improve from 0.88071\n",
            "1050/1050 [==============================] - 81s 78ms/step - loss: 0.1331 - accuracy: 0.9571 - val_loss: 0.6197 - val_accuracy: 0.8671\n",
            "Epoch 14/20\n",
            "1050/1050 [==============================] - ETA: 0s - loss: 0.1233 - accuracy: 0.9601\n",
            "Epoch 14: val_accuracy did not improve from 0.88071\n",
            "1050/1050 [==============================] - 79s 75ms/step - loss: 0.1233 - accuracy: 0.9601 - val_loss: 0.6305 - val_accuracy: 0.8640\n",
            "Epoch 15/20\n",
            "1050/1050 [==============================] - ETA: 0s - loss: 0.1132 - accuracy: 0.9633\n",
            "Epoch 15: val_accuracy did not improve from 0.88071\n",
            "1050/1050 [==============================] - 75s 72ms/step - loss: 0.1132 - accuracy: 0.9633 - val_loss: 0.6549 - val_accuracy: 0.8707\n",
            "Epoch 16/20\n",
            "1050/1050 [==============================] - ETA: 0s - loss: 0.1008 - accuracy: 0.9669\n",
            "Epoch 16: val_accuracy did not improve from 0.88071\n",
            "1050/1050 [==============================] - 76s 72ms/step - loss: 0.1008 - accuracy: 0.9669 - val_loss: 0.7015 - val_accuracy: 0.8658\n",
            "Epoch 17/20\n",
            "1050/1050 [==============================] - ETA: 0s - loss: 0.0929 - accuracy: 0.9704\n",
            "Epoch 17: val_accuracy did not improve from 0.88071\n",
            "1050/1050 [==============================] - 79s 75ms/step - loss: 0.0929 - accuracy: 0.9704 - val_loss: 0.6903 - val_accuracy: 0.8750\n",
            "Epoch 18/20\n",
            "1050/1050 [==============================] - ETA: 0s - loss: 0.0798 - accuracy: 0.9749\n",
            "Epoch 18: val_accuracy did not improve from 0.88071\n",
            "1050/1050 [==============================] - 74s 71ms/step - loss: 0.0798 - accuracy: 0.9749 - val_loss: 0.7664 - val_accuracy: 0.8681\n",
            "Epoch 19/20\n",
            "1050/1050 [==============================] - ETA: 0s - loss: 0.0778 - accuracy: 0.9744\n",
            "Epoch 19: val_accuracy did not improve from 0.88071\n",
            "1050/1050 [==============================] - 76s 72ms/step - loss: 0.0778 - accuracy: 0.9744 - val_loss: 0.7585 - val_accuracy: 0.8714\n",
            "Epoch 20/20\n",
            "1050/1050 [==============================] - ETA: 0s - loss: 0.0742 - accuracy: 0.9756\n",
            "Epoch 20: val_accuracy did not improve from 0.88071\n",
            "1050/1050 [==============================] - 77s 73ms/step - loss: 0.0742 - accuracy: 0.9756 - val_loss: 0.8155 - val_accuracy: 0.8701\n"
          ]
        }
      ],
      "source": [
        "# Callback to save the best model\n",
        "mc = ModelCheckpoint('cnn_model_1.h5', monitor = 'val_accuracy', mode = 'max', verbose = 1, save_best_only = True)\n",
        "\n",
        "# Fitting the model on the training data with a validation split of 0.2, batch size = 32, verbose = 1, and epochs = 20\n",
        "cnn_model_1_hystory = cnn_model_1.fit(X_train_4D,\n",
        "                                      y_train_encoded,\n",
        "                                      validation_split = 0.2,\n",
        "                                      epochs = 20,\n",
        "                                      batch_size = 32,\n",
        "                                      verbose = 1,\n",
        "                                      callbacks = [mc])"
      ]
    },
    {
      "cell_type": "markdown",
      "metadata": {
        "id": "JPzfIf9kKDNw"
      },
      "source": [
        "### **Plot the Training and Validation Accuracies and Write your observations.**"
      ]
    },
    {
      "cell_type": "code",
      "execution_count": null,
      "metadata": {
        "colab": {
          "base_uri": "https://localhost:8080/",
          "height": 472
        },
        "id": "72S1wNFA-_s0",
        "outputId": "3ce32719-aab7-4cb9-ba1f-a351fec89310"
      },
      "outputs": [
        {
          "data": {
            "image/png": "[encoded data removed]",
            "text/plain": [
              "<Figure size 640x480 with 1 Axes>"
            ]
          },
          "metadata": {},
          "output_type": "display_data"
        }
      ],
      "source": [
        "# Plotting the training and validation accuracies for each epoch\n",
        "plot_model_accuracies(cnn_model_1_hystory)"
      ]
    },
    {
      "cell_type": "markdown",
      "metadata": {
        "id": "P6zTLyp9AjQH"
      },
      "source": [
        "**Observations:**\n",
        "* The CNN model 1 has 267306 trainable parameters.\n",
        "* The CNN model 1 seems to overfit, while the accuracy on training data improves, the accurancy on the validation data starts fluctuating after first epoch.\n",
        "* Relatively big delta between traning and validation data accurancy."
      ]
    },
    {
      "cell_type": "markdown",
      "metadata": {
        "id": "Ukvtg2eMAjQH"
      },
      "source": [
        "Let's build another model and see if we can get a better model with generalized performance.\n",
        "\n",
        "First, we need to clear the previous model's history from the Keras backend. Also, let's fix the seed again after clearing the backend."
      ]
    },
    {
      "cell_type": "code",
      "execution_count": null,
      "metadata": {
        "id": "HbKi93HTolGW"
      },
      "outputs": [],
      "source": [
        "clear_backend_and_gen_random_seed()"
      ]
    },
    {
      "cell_type": "markdown",
      "metadata": {
        "id": "Ep19Jd8HAjQH"
      },
      "source": [
        "### **Second Model Architecture**\n",
        "\n",
        "- Write a function that returns a sequential model with the following architecture:\n",
        " - First Convolutional layer with **16 filters and the kernel size of 3x3**. Use the **'same' padding** and provide the **input shape = (32, 32, 1)**\n",
        " - Add a **LeakyRelu layer** with the **slope equal to 0.1**\n",
        " - Second Convolutional layer with **32 filters and the kernel size of 3x3 with 'same' padding**\n",
        " - Add **LeakyRelu** with the **slope equal to 0.1**\n",
        " - Add a **max-pooling layer** with a **pool size of 2x2**\n",
        " - Add a **BatchNormalization layer**\n",
        " - Third Convolutional layer with **32 filters and the kernel size of 3x3 with 'same' padding**\n",
        " - Add a **LeakyRelu layer with the slope equal to 0.1**\n",
        " - Fourth Convolutional layer **64 filters and the kernel size of 3x3 with 'same' padding**\n",
        " - Add a **LeakyRelu layer with the slope equal to 0.1**\n",
        " - Add a **max-pooling layer** with a **pool size of 2x2**\n",
        " - Add a **BatchNormalization layer**\n",
        " - **Flatten** the output from the previous layer\n",
        " - Add a **dense layer with 32 nodes**\n",
        " - Add a **LeakyRelu layer with the slope equal to 0.1**\n",
        " - Add a **dropout layer with the rate equal to 0.5**\n",
        " - Add the final **output layer with nodes equal to the number of classes, i.e., 10** and **'softmax' as the activation function**\n",
        " - Compile the model with the **categorical_crossentropy loss, adam optimizers (learning_rate = 0.001), and metric equal to 'accuracy'**. Do not fit the model here, just return the compiled model.\n",
        "- Call the function cnn_model_2 and store the model in a new variable.\n",
        "- Print the summary of the model.\n",
        "- Fit the model on the train data with a **validation split of 0.2, batch size = 128, verbose = 1, and epochs = 30**. Store the model building history to use later for visualization."
      ]
    },
    {
      "cell_type": "markdown",
      "metadata": {
        "id": "y5IBLS1eKDNy"
      },
      "source": [
        "### **Build and train the second CNN model as per the above mentioned architecture.**"
      ]
    },
    {
      "cell_type": "code",
      "execution_count": null,
      "metadata": {
        "id": "wk9sl2UEAjQH"
      },
      "outputs": [],
      "source": [
        "cnn_model_2 = Sequential()\n",
        "\n",
        "# First Convolutional layer with 16 filters and the kernel size of 3x3. 'same' padding and input shape = (32, 32, 1)\n",
        "cnn_model_2.add(Conv2D(16, (3, 3), padding = \"same\", input_shape = (32, 32, 1)))\n",
        "\n",
        "# Adding LeakyRelu with the slope equal to 0.1\n",
        "cnn_model_2.add(LeakyReLU(0.1))\n",
        "\n",
        "# Second Convolutional layer with 32 filters and the kernel size of 3x3 with 'same' padding\n",
        "cnn_model_2.add(Conv2D(32, (3, 3),  padding = \"same\"))\n",
        "\n",
        "# Adding LeakyRelu with the slope equal to 0.1\n",
        "cnn_model_2.add(LeakyReLU(0.1))\n",
        "\n",
        "# Adding a max-pooling layer with a pool size of 2x2\n",
        "cnn_model_2.add(MaxPooling2D(pool_size = (2, 2)))\n",
        "\n",
        "# Adding a BatchNormalization layer\n",
        "cnn_model_2.add(BatchNormalization())\n",
        "\n",
        "# Third Convolutional layer with 32 filters and the kernel size of 3x3 with 'same' padding\n",
        "cnn_model_2.add(Conv2D(32, (3, 3),  padding = \"same\"))\n",
        "\n",
        "# Adding a LeakyRelu layer with the slope equal to 0.1\n",
        "cnn_model_2.add(LeakyReLU(0.1))\n",
        "\n",
        "# Fourth Convolutional layer 64 filters and the kernel size of 3x3 with 'same' padding\n",
        "cnn_model_2.add(Conv2D(64, (3, 3),  padding = \"same\"))\n",
        "\n",
        "# Adding a LeakyRelu layer with the slope equal to 0.1\n",
        "cnn_model_2.add(LeakyReLU(0.1))\n",
        "\n",
        "# Adding a max-pooling layer with a pool size of 2x2\n",
        "cnn_model_2.add(MaxPooling2D(pool_size = (2, 2)))\n",
        "\n",
        "# Adding a BatchNormalization layer\n",
        "cnn_model_2.add(BatchNormalization())\n",
        "\n",
        "# Adding Flutten layer\n",
        "cnn_model_2.add(Flatten())\n",
        "\n",
        "# Dense layer with 32 nodes\n",
        "cnn_model_2.add(Dense(32))\n",
        "\n",
        "# Adding LeakyRelu activation function with a negative slope of 0.1\n",
        "cnn_model_2.add(LeakyReLU(0.1))\n",
        "\n",
        "# Adding a dropout layer with the rate equal to 0.5\n",
        "cnn_model_2.add(Dropout(0.5))\n",
        "\n",
        "# Adding the final output layer with nodes equal to the number of classes\n",
        "cnn_model_2.add(Dense(10, activation = 'softmax'))"
      ]
    },
    {
      "cell_type": "code",
      "execution_count": null,
      "metadata": {
        "id": "OF6dxvzKe8_y"
      },
      "outputs": [],
      "source": [
        "# Compileing the model with the categorical_crossentropy loss, adam optimizers (learning_rate = 0.001), and metric equal to 'accuracy'.\n",
        "\n",
        "optimizer = Adam(learning_rate = 0.001)\n",
        "cnn_model_2.compile(optimizer = optimizer, loss = 'categorical_crossentropy',  metrics = ['accuracy'])"
      ]
    },
    {
      "cell_type": "code",
      "execution_count": null,
      "metadata": {
        "colab": {
          "base_uri": "https://localhost:8080/"
        },
        "id": "aNFeW5OkfRwF",
        "outputId": "8f91553b-a24b-4bde-af57-49d75bc9c403"
      },
      "outputs": [
        {
          "name": "stdout",
          "output_type": "stream",
          "text": [
            "Model: \"sequential\"\n",
            "_________________________________________________________________\n",
            " Layer (type)                Output Shape              Param #   \n",
            "=================================================================\n",
            " conv2d (Conv2D)             (None, 32, 32, 16)        160       \n",
            "                                                                 \n",
            " leaky_re_lu (LeakyReLU)     (None, 32, 32, 16)        0         \n",
            "                                                                 \n",
            " conv2d_1 (Conv2D)           (None, 32, 32, 32)        4640      \n",
            "                                                                 \n",
            " leaky_re_lu_1 (LeakyReLU)   (None, 32, 32, 32)        0         \n",
            "                                                                 \n",
            " max_pooling2d (MaxPooling2D  (None, 16, 16, 32)       0         \n",
            " )                                                               \n",
            "                                                                 \n",
            " batch_normalization (BatchN  (None, 16, 16, 32)       128       \n",
            " ormalization)                                                   \n",
            "                                                                 \n",
            " conv2d_2 (Conv2D)           (None, 16, 16, 32)        9248      \n",
            "                                                                 \n",
            " leaky_re_lu_2 (LeakyReLU)   (None, 16, 16, 32)        0         \n",
            "                                                                 \n",
            " conv2d_3 (Conv2D)           (None, 16, 16, 64)        18496     \n",
            "                                                                 \n",
            " leaky_re_lu_3 (LeakyReLU)   (None, 16, 16, 64)        0         \n",
            "                                                                 \n",
            " max_pooling2d_1 (MaxPooling  (None, 8, 8, 64)         0         \n",
            " 2D)                                                             \n",
            "                                                                 \n",
            " batch_normalization_1 (Batc  (None, 8, 8, 64)         256       \n",
            " hNormalization)                                                 \n",
            "                                                                 \n",
            " flatten (Flatten)           (None, 4096)              0         \n",
            "                                                                 \n",
            " dense (Dense)               (None, 32)                131104    \n",
            "                                                                 \n",
            " leaky_re_lu_4 (LeakyReLU)   (None, 32)                0         \n",
            "                                                                 \n",
            " dropout (Dropout)           (None, 32)                0         \n",
            "                                                                 \n",
            " dense_1 (Dense)             (None, 10)                330       \n",
            "                                                                 \n",
            "=================================================================\n",
            "Total params: 164,362\n",
            "Trainable params: 164,170\n",
            "Non-trainable params: 192\n",
            "_________________________________________________________________\n"
          ]
        }
      ],
      "source": [
        "cnn_model_2.summary()"
      ]
    },
    {
      "cell_type": "markdown",
      "metadata": {
        "id": "PyhUtMy3KDN1"
      },
      "source": [
        "### **Plot the Training and Validation accuracies and write your observations.**"
      ]
    },
    {
      "cell_type": "code",
      "source": [],
      "metadata": {
        "id": "_46MU-uSwDxu"
      },
      "execution_count": null,
      "outputs": []
    },
    {
      "cell_type": "code",
      "source": [
        "# Callback to save the best model\n",
        "mc = ModelCheckpoint('cnn_model_2.h5', monitor = 'val_accuracy', mode = 'max', verbose = 1, save_best_only = True)\n",
        "\n",
        "# Fit the model on the train data with a validation split of 0.2, batch size = 128, verbose = 1, and epochs = 30.\n",
        "cnn_model_2_hystory = cnn_model_2.fit(X_train_4D,\n",
        "                                      y_train_encoded,\n",
        "                                      validation_split = 0.2,\n",
        "                                      epochs = 30,\n",
        "                                      batch_size = 128,\n",
        "                                      verbose = 1,\n",
        "                                      callbacks = [mc])"
      ],
      "metadata": {
        "colab": {
          "base_uri": "https://localhost:8080/"
        },
        "outputId": "e7f39c91-2516-4312-c1a3-5e1687ca2d21",
        "id": "X-5tEf_ZwEA-"
      },
      "execution_count": null,
      "outputs": [
        {
          "output_type": "stream",
          "name": "stdout",
          "text": [
            "Epoch 1/30\n",
            "263/263 [==============================] - ETA: 0s - loss: 1.3222 - accuracy: 0.5483\n",
            "Epoch 1: val_accuracy improved from -inf to 0.21119, saving model to cnn_model_2.h5\n",
            "263/263 [==============================] - 129s 482ms/step - loss: 1.3222 - accuracy: 0.5483 - val_loss: 2.1225 - val_accuracy: 0.2112\n",
            "Epoch 2/30\n"
          ]
        },
        {
          "output_type": "stream",
          "name": "stderr",
          "text": [
            "/usr/local/lib/python3.10/dist-packages/keras/src/engine/training.py:3103: UserWarning: You are saving your model as an HDF5 file via `model.save()`. This file format is considered legacy. We recommend using instead the native Keras format, e.g. `model.save('my_model.keras')`.\n",
            "  saving_api.save_model(\n"
          ]
        },
        {
          "output_type": "stream",
          "name": "stdout",
          "text": [
            "263/263 [==============================] - ETA: 0s - loss: 0.6654 - accuracy: 0.7950\n",
            "Epoch 2: val_accuracy improved from 0.21119 to 0.82083, saving model to cnn_model_2.h5\n",
            "263/263 [==============================] - 131s 497ms/step - loss: 0.6654 - accuracy: 0.7950 - val_loss: 0.6373 - val_accuracy: 0.8208\n",
            "Epoch 3/30\n",
            "263/263 [==============================] - ETA: 0s - loss: 0.5528 - accuracy: 0.8313\n",
            "Epoch 3: val_accuracy improved from 0.82083 to 0.87369, saving model to cnn_model_2.h5\n",
            "263/263 [==============================] - 130s 496ms/step - loss: 0.5528 - accuracy: 0.8313 - val_loss: 0.4480 - val_accuracy: 0.8737\n",
            "Epoch 4/30\n",
            "263/263 [==============================] - ETA: 0s - loss: 0.4908 - accuracy: 0.8507\n",
            "Epoch 4: val_accuracy improved from 0.87369 to 0.88226, saving model to cnn_model_2.h5\n",
            "263/263 [==============================] - 123s 468ms/step - loss: 0.4908 - accuracy: 0.8507 - val_loss: 0.3992 - val_accuracy: 0.8823\n",
            "Epoch 5/30\n",
            "263/263 [==============================] - ETA: 0s - loss: 0.4349 - accuracy: 0.8633\n",
            "Epoch 5: val_accuracy improved from 0.88226 to 0.88845, saving model to cnn_model_2.h5\n",
            "263/263 [==============================] - 129s 493ms/step - loss: 0.4349 - accuracy: 0.8633 - val_loss: 0.3909 - val_accuracy: 0.8885\n",
            "Epoch 6/30\n",
            "263/263 [==============================] - ETA: 0s - loss: 0.4038 - accuracy: 0.8755\n",
            "Epoch 6: val_accuracy did not improve from 0.88845\n",
            "263/263 [==============================] - 124s 471ms/step - loss: 0.4038 - accuracy: 0.8755 - val_loss: 0.4107 - val_accuracy: 0.8852\n",
            "Epoch 7/30\n",
            "263/263 [==============================] - ETA: 0s - loss: 0.3835 - accuracy: 0.8814\n",
            "Epoch 7: val_accuracy improved from 0.88845 to 0.89143, saving model to cnn_model_2.h5\n",
            "263/263 [==============================] - 127s 484ms/step - loss: 0.3835 - accuracy: 0.8814 - val_loss: 0.3952 - val_accuracy: 0.8914\n",
            "Epoch 8/30\n",
            "263/263 [==============================] - ETA: 0s - loss: 0.3493 - accuracy: 0.8902\n",
            "Epoch 8: val_accuracy did not improve from 0.89143\n",
            "263/263 [==============================] - 126s 478ms/step - loss: 0.3493 - accuracy: 0.8902 - val_loss: 0.3821 - val_accuracy: 0.8896\n",
            "Epoch 9/30\n",
            "263/263 [==============================] - ETA: 0s - loss: 0.3308 - accuracy: 0.8967\n",
            "Epoch 9: val_accuracy improved from 0.89143 to 0.89417, saving model to cnn_model_2.h5\n",
            "263/263 [==============================] - 125s 477ms/step - loss: 0.3308 - accuracy: 0.8967 - val_loss: 0.3889 - val_accuracy: 0.8942\n",
            "Epoch 10/30\n",
            "263/263 [==============================] - ETA: 0s - loss: 0.3131 - accuracy: 0.9014\n",
            "Epoch 10: val_accuracy improved from 0.89417 to 0.90976, saving model to cnn_model_2.h5\n",
            "263/263 [==============================] - 128s 487ms/step - loss: 0.3131 - accuracy: 0.9014 - val_loss: 0.3309 - val_accuracy: 0.9098\n",
            "Epoch 11/30\n",
            "263/263 [==============================] - ETA: 0s - loss: 0.2931 - accuracy: 0.9094\n",
            "Epoch 11: val_accuracy did not improve from 0.90976\n",
            "263/263 [==============================] - 126s 481ms/step - loss: 0.2931 - accuracy: 0.9094 - val_loss: 0.3773 - val_accuracy: 0.8977\n",
            "Epoch 12/30\n",
            "263/263 [==============================] - ETA: 0s - loss: 0.2796 - accuracy: 0.9116\n",
            "Epoch 12: val_accuracy did not improve from 0.90976\n",
            "263/263 [==============================] - 127s 483ms/step - loss: 0.2796 - accuracy: 0.9116 - val_loss: 0.3825 - val_accuracy: 0.9038\n",
            "Epoch 13/30\n",
            "263/263 [==============================] - ETA: 0s - loss: 0.2663 - accuracy: 0.9150\n",
            "Epoch 13: val_accuracy did not improve from 0.90976\n",
            "263/263 [==============================] - 125s 474ms/step - loss: 0.2663 - accuracy: 0.9150 - val_loss: 0.3677 - val_accuracy: 0.8979\n",
            "Epoch 14/30\n",
            "263/263 [==============================] - ETA: 0s - loss: 0.2563 - accuracy: 0.9187\n",
            "Epoch 14: val_accuracy did not improve from 0.90976\n",
            "263/263 [==============================] - 125s 475ms/step - loss: 0.2563 - accuracy: 0.9187 - val_loss: 0.3601 - val_accuracy: 0.9063\n",
            "Epoch 15/30\n",
            "263/263 [==============================] - ETA: 0s - loss: 0.2456 - accuracy: 0.9208\n",
            "Epoch 15: val_accuracy did not improve from 0.90976\n",
            "263/263 [==============================] - 126s 479ms/step - loss: 0.2456 - accuracy: 0.9208 - val_loss: 0.3725 - val_accuracy: 0.9074\n",
            "Epoch 16/30\n",
            "263/263 [==============================] - ETA: 0s - loss: 0.2373 - accuracy: 0.9241\n",
            "Epoch 16: val_accuracy did not improve from 0.90976\n",
            "263/263 [==============================] - 126s 478ms/step - loss: 0.2373 - accuracy: 0.9241 - val_loss: 0.4240 - val_accuracy: 0.8964\n",
            "Epoch 17/30\n",
            "263/263 [==============================] - ETA: 0s - loss: 0.2238 - accuracy: 0.9260\n",
            "Epoch 17: val_accuracy improved from 0.90976 to 0.91226, saving model to cnn_model_2.h5\n",
            "263/263 [==============================] - 134s 510ms/step - loss: 0.2238 - accuracy: 0.9260 - val_loss: 0.3838 - val_accuracy: 0.9123\n",
            "Epoch 18/30\n",
            "263/263 [==============================] - ETA: 0s - loss: 0.2168 - accuracy: 0.9294\n",
            "Epoch 18: val_accuracy did not improve from 0.91226\n",
            "263/263 [==============================] - 124s 472ms/step - loss: 0.2168 - accuracy: 0.9294 - val_loss: 0.3901 - val_accuracy: 0.9004\n",
            "Epoch 19/30\n",
            "263/263 [==============================] - ETA: 0s - loss: 0.2105 - accuracy: 0.9302\n",
            "Epoch 19: val_accuracy did not improve from 0.91226\n",
            "263/263 [==============================] - 124s 473ms/step - loss: 0.2105 - accuracy: 0.9302 - val_loss: 0.4863 - val_accuracy: 0.8829\n",
            "Epoch 20/30\n",
            "263/263 [==============================] - ETA: 0s - loss: 0.2031 - accuracy: 0.9327\n",
            "Epoch 20: val_accuracy did not improve from 0.91226\n",
            "263/263 [==============================] - 126s 481ms/step - loss: 0.2031 - accuracy: 0.9327 - val_loss: 0.3914 - val_accuracy: 0.9090\n",
            "Epoch 21/30\n",
            "263/263 [==============================] - ETA: 0s - loss: 0.1943 - accuracy: 0.9360\n",
            "Epoch 21: val_accuracy did not improve from 0.91226\n",
            "263/263 [==============================] - 127s 483ms/step - loss: 0.1943 - accuracy: 0.9360 - val_loss: 0.4094 - val_accuracy: 0.9096\n",
            "Epoch 22/30\n",
            "263/263 [==============================] - ETA: 0s - loss: 0.1892 - accuracy: 0.9381\n",
            "Epoch 22: val_accuracy did not improve from 0.91226\n",
            "263/263 [==============================] - 129s 491ms/step - loss: 0.1892 - accuracy: 0.9381 - val_loss: 0.4386 - val_accuracy: 0.8992\n",
            "Epoch 23/30\n",
            "263/263 [==============================] - ETA: 0s - loss: 0.1872 - accuracy: 0.9386\n",
            "Epoch 23: val_accuracy did not improve from 0.91226\n",
            "263/263 [==============================] - 125s 474ms/step - loss: 0.1872 - accuracy: 0.9386 - val_loss: 0.4176 - val_accuracy: 0.9113\n",
            "Epoch 24/30\n",
            "263/263 [==============================] - ETA: 0s - loss: 0.1774 - accuracy: 0.9419\n",
            "Epoch 24: val_accuracy improved from 0.91226 to 0.91298, saving model to cnn_model_2.h5\n",
            "263/263 [==============================] - 129s 491ms/step - loss: 0.1774 - accuracy: 0.9419 - val_loss: 0.4069 - val_accuracy: 0.9130\n",
            "Epoch 25/30\n",
            "263/263 [==============================] - ETA: 0s - loss: 0.1675 - accuracy: 0.9449\n",
            "Epoch 25: val_accuracy improved from 0.91298 to 0.91321, saving model to cnn_model_2.h5\n",
            "263/263 [==============================] - 131s 497ms/step - loss: 0.1675 - accuracy: 0.9449 - val_loss: 0.4280 - val_accuracy: 0.9132\n",
            "Epoch 26/30\n",
            "263/263 [==============================] - ETA: 0s - loss: 0.1651 - accuracy: 0.9454\n",
            "Epoch 26: val_accuracy did not improve from 0.91321\n",
            "263/263 [==============================] - 124s 473ms/step - loss: 0.1651 - accuracy: 0.9454 - val_loss: 0.4501 - val_accuracy: 0.9119\n",
            "Epoch 27/30\n",
            "263/263 [==============================] - ETA: 0s - loss: 0.1669 - accuracy: 0.9452\n",
            "Epoch 27: val_accuracy did not improve from 0.91321\n",
            "263/263 [==============================] - 127s 482ms/step - loss: 0.1669 - accuracy: 0.9452 - val_loss: 0.4398 - val_accuracy: 0.9080\n",
            "Epoch 28/30\n",
            "263/263 [==============================] - ETA: 0s - loss: 0.1592 - accuracy: 0.9468\n",
            "Epoch 28: val_accuracy did not improve from 0.91321\n",
            "263/263 [==============================] - 124s 471ms/step - loss: 0.1592 - accuracy: 0.9468 - val_loss: 0.4108 - val_accuracy: 0.9129\n",
            "Epoch 29/30\n",
            "263/263 [==============================] - ETA: 0s - loss: 0.1529 - accuracy: 0.9492\n",
            "Epoch 29: val_accuracy improved from 0.91321 to 0.91536, saving model to cnn_model_2.h5\n",
            "263/263 [==============================] - 126s 478ms/step - loss: 0.1529 - accuracy: 0.9492 - val_loss: 0.4127 - val_accuracy: 0.9154\n",
            "Epoch 30/30\n",
            "263/263 [==============================] - ETA: 0s - loss: 0.1496 - accuracy: 0.9494\n",
            "Epoch 30: val_accuracy did not improve from 0.91536\n",
            "263/263 [==============================] - 125s 477ms/step - loss: 0.1496 - accuracy: 0.9494 - val_loss: 0.4532 - val_accuracy: 0.9132\n"
          ]
        }
      ]
    },
    {
      "cell_type": "code",
      "execution_count": null,
      "metadata": {
        "colab": {
          "base_uri": "https://localhost:8080/",
          "height": 472
        },
        "id": "YVQu7uWiAjQH",
        "outputId": "c69d3b1a-d26b-4d63-ce6c-2c4d01b611e3"
      },
      "outputs": [
        {
          "data": {
            "image/png": "[encoded data removed]",
            "text/plain": [
              "<Figure size 640x480 with 1 Axes>"
            ]
          },
          "metadata": {},
          "output_type": "display_data"
        }
      ],
      "source": [
        "# Plotting the training and validation accuracies for each epoch\n",
        "\n",
        "plt.plot(cnn_model_2_hystory.history['accuracy'])\n",
        "plt.plot(cnn_model_2_hystory.history['val_accuracy'])\n",
        "plt.title('model accuracy')\n",
        "plt.ylabel('accuracy')\n",
        "plt.xlabel('epoch')\n",
        "plt.legend(['train', 'validation'], loc='upper left')\n",
        "plt.show()"
      ]
    },
    {
      "cell_type": "code",
      "execution_count": null,
      "metadata": {
        "colab": {
          "base_uri": "https://localhost:8080/"
        },
        "id": "Wu_S_fXmwClu",
        "outputId": "9e50ff89-2605-4812-d5f3-177c798e732d"
      },
      "outputs": [
        {
          "name": "stdout",
          "output_type": "stream",
          "text": [
            "563/563 [==============================] - 18s 31ms/step - loss: 0.4699 - accuracy: 0.9129\n"
          ]
        },
        {
          "data": {
            "text/plain": [
              "[0.46987923979759216, 0.9129444360733032]"
            ]
          },
          "execution_count": 57,
          "metadata": {},
          "output_type": "execute_result"
        }
      ],
      "source": [
        "# Model accuracy\n",
        "cnn_model_2.evaluate(X_test_4D, (y_test_encoded))"
      ]
    },
    {
      "cell_type": "markdown",
      "metadata": {
        "id": "Qrrt0Ac3AjQH"
      },
      "source": [
        "**Observations:**\n",
        "* CNN model 2 has 164,170 trainable parameters, compared to CNN model 1 - 267306.\n",
        "* The model fits the data well since there is no big gap between training and validation accuracy.\n",
        "* After 5 epochs the curves are flattening out, which means there is no significant improvement in accuracy.\n",
        "* CNN model 2 loss: 0.4699 and accuracy: 0.9129 which is better compared to other ANN model 2 with loss: 0.8357 - accuracy: 0.7447.\n",
        "* It's a good idea to use the early stopping callback next time since the accuracy improvement for the late cycles is insignificant, and it would save computing time.\n",
        "* CNN model 2 has less trainable parameters - 164170 , compared to ANN model 2 - 310186."
      ]
    },
    {
      "cell_type": "markdown",
      "metadata": {
        "id": "kja4SnOdAjQI"
      },
      "source": [
        "## **Predictions on the test data**\n",
        "\n",
        "- Make predictions on the test set using the second model.\n",
        "- Print the obtained results using the classification report and the confusion matrix.\n",
        "- Final observations on the obtained results."
      ]
    },
    {
      "cell_type": "markdown",
      "metadata": {
        "id": "eHCRwRbgKDN2"
      },
      "source": [
        "### **Make predictions on the test data using the second model.**"
      ]
    },
    {
      "cell_type": "code",
      "execution_count": null,
      "metadata": {
        "colab": {
          "base_uri": "https://localhost:8080/"
        },
        "id": "f1d-VvaLAjQI",
        "outputId": "5d1e36cb-c150-4233-bdc7-13c8f8c746a9"
      },
      "outputs": [
        {
          "name": "stdout",
          "output_type": "stream",
          "text": [
            "563/563 [==============================] - 18s 31ms/step\n"
          ]
        }
      ],
      "source": [
        "from sklearn.metrics import classification_report\n",
        "from sklearn.metrics import confusion_matrix\n",
        "\n",
        "pred = cnn_model_2.predict(X_test_4D)\n",
        "pred = np.argmax(pred, axis = 1)\n",
        "y_true = np.argmax(y_test_encoded, axis = 1)"
      ]
    },
    {
      "cell_type": "markdown",
      "metadata": {
        "id": "DrV1tOG0AjQI"
      },
      "source": [
        "**Note:** Earlier, we noticed that each entry of the target variable is a one-hot encoded vector, but to print the classification report and confusion matrix, we must convert each entry of y_test to a single label."
      ]
    },
    {
      "cell_type": "markdown",
      "metadata": {
        "id": "9NqETj91zNvx"
      },
      "source": [
        "We already have Categories stored earlier, no need to convert in this case."
      ]
    },
    {
      "cell_type": "code",
      "execution_count": null,
      "metadata": {
        "colab": {
          "base_uri": "https://localhost:8080/"
        },
        "id": "VPgQdLPpx0jm",
        "outputId": "358374fa-6f62-4bd3-93a8-7b08eac039a7"
      },
      "outputs": [
        {
          "name": "stdout",
          "output_type": "stream",
          "text": [
            "              precision    recall  f1-score   support\n",
            "\n",
            "           0       0.90      0.95      0.93      1814\n",
            "           1       0.92      0.90      0.91      1828\n",
            "           2       0.93      0.93      0.93      1803\n",
            "           3       0.89      0.90      0.89      1719\n",
            "           4       0.93      0.92      0.92      1812\n",
            "           5       0.91      0.91      0.91      1768\n",
            "           6       0.89      0.90      0.90      1832\n",
            "           7       0.94      0.93      0.93      1808\n",
            "           8       0.92      0.88      0.90      1812\n",
            "           9       0.92      0.90      0.91      1804\n",
            "\n",
            "    accuracy                           0.91     18000\n",
            "   macro avg       0.91      0.91      0.91     18000\n",
            "weighted avg       0.91      0.91      0.91     18000\n",
            "\n"
          ]
        }
      ],
      "source": [
        "# Printing the classification report\n",
        "print(classification_report(y_true, pred))"
      ]
    },
    {
      "cell_type": "code",
      "execution_count": null,
      "metadata": {
        "colab": {
          "base_uri": "https://localhost:8080/",
          "height": 465
        },
        "id": "us9ujOMJyEen",
        "outputId": "12d33e5f-c9dc-4aad-9294-d317baf9a671"
      },
      "outputs": [
        {
          "data": {
            "image/png": "[encoded data removed]",
            "text/plain": [
              "<Figure size 800x500 with 2 Axes>"
            ]
          },
          "metadata": {},
          "output_type": "display_data"
        }
      ],
      "source": [
        "# Plotting the heatmap using confusion matrix\n",
        "cm = confusion_matrix(y_true, pred)\n",
        "plt.figure(figsize = (8, 5))\n",
        "sns.heatmap(cm, annot = True,  fmt = '.0f', xticklabels = categories, yticklabels=categories)\n",
        "plt.ylabel('Actual')\n",
        "plt.xlabel('Predicted')\n",
        "plt.yticks(rotation=0)\n",
        "plt.show()"
      ]
    },
    {
      "cell_type": "markdown",
      "metadata": {
        "id": "aVCa-ysWKDN3"
      },
      "source": [
        "### **Write your final observations on the performance of the model on the test data.**"
      ]
    },
    {
      "cell_type": "markdown",
      "metadata": {
        "id": "_27HOSF417MF"
      },
      "source": [
        "**Observations for CNN model 2:**\n",
        "* CNN Model 2 prediction F1 score accuracy is ~91%\n",
        "* There are some misclassifications but not as many as for ANN models.\n",
        "  * For example \"7\" was misclassified as \"1\" 25 times, as opposed to 174 times for ANN model 2"
      ]
    },
    {
      "cell_type": "markdown",
      "source": [
        "**Note:**\n",
        "It would be a great idea to load the models we stored earlier to compare them (example keras load_model(\"cnn_model_1.h5\")) but since the notebook was out of GPU and was constantly reconnected we no longer have access to these stored models. Let's collect and print the results manually."
      ],
      "metadata": {
        "id": "CEsm_87f3udF"
      }
    },
    {
      "cell_type": "code",
      "source": [
        "loss = [1.0434,0.8357,0.8155,0.4699]\n",
        "accuracy = [0.6781,0.7447,0.8701,0.9129]\n",
        "num_params = [68010,310186,267306,164170]\n",
        "\n",
        "evaluation_results = []\n",
        "\n",
        "for i in range(4):\n",
        "  evaluation_results.append({'Loss': loss[i], 'Accuracy': accuracy[i], 'Number parameters': num_params[i]})\n",
        "\n",
        "# Create a DataFrame for comparison\n",
        "comparison_table = pd.DataFrame(evaluation_results, index=['ANN Model 1','ANN Model 2','CNN Model 1', 'CNN Model 2'])"
      ],
      "metadata": {
        "id": "ZUv6BALsz1gv"
      },
      "execution_count": null,
      "outputs": []
    },
    {
      "cell_type": "code",
      "execution_count": null,
      "metadata": {
        "colab": {
          "base_uri": "https://localhost:8080/",
          "height": 175
        },
        "id": "6yZW7V7J4O_z",
        "outputId": "e45cdef2-1ef2-4693-cf00-4e77564ec8db"
      },
      "outputs": [
        {
          "output_type": "execute_result",
          "data": {
            "text/plain": [
              "               Loss  Accuracy  Number parameters\n",
              "ANN Model 1  1.0434    0.6781              68010\n",
              "ANN Model 2  0.8357    0.7447             310186\n",
              "CNN Model 1  0.8155    0.8701             267306\n",
              "CNN Model 2  0.4699    0.9129             164170"
            ],
            "text/html": [
              "\n",
              "  <div id=\"df-6a270205-7a9f-4b68-bf91-e9a391f98664\" class=\"colab-df-container\">\n",
              "    <div>\n",
              "<style scoped>\n",
              "    .dataframe tbody tr th:only-of-type {\n",
              "        vertical-align: middle;\n",
              "    }\n",
              "\n",
              "    .dataframe tbody tr th {\n",
              "        vertical-align: top;\n",
              "    }\n",
              "\n",
              "    .dataframe thead th {\n",
              "        text-align: right;\n",
              "    }\n",
              "</style>\n",
              "<table border=\"1\" class=\"dataframe\">\n",
              "  <thead>\n",
              "    <tr style=\"text-align: right;\">\n",
              "      <th></th>\n",
              "      <th>Loss</th>\n",
              "      <th>Accuracy</th>\n",
              "      <th>Number parameters</th>\n",
              "    </tr>\n",
              "  </thead>\n",
              "  <tbody>\n",
              "    <tr>\n",
              "      <th>ANN Model 1</th>\n",
              "      <td>1.0434</td>\n",
              "      <td>0.6781</td>\n",
              "      <td>68010</td>\n",
              "    </tr>\n",
              "    <tr>\n",
              "      <th>ANN Model 2</th>\n",
              "      <td>0.8357</td>\n",
              "      <td>0.7447</td>\n",
              "      <td>310186</td>\n",
              "    </tr>\n",
              "    <tr>\n",
              "      <th>CNN Model 1</th>\n",
              "      <td>0.8155</td>\n",
              "      <td>0.8701</td>\n",
              "      <td>267306</td>\n",
              "    </tr>\n",
              "    <tr>\n",
              "      <th>CNN Model 2</th>\n",
              "      <td>0.4699</td>\n",
              "      <td>0.9129</td>\n",
              "      <td>164170</td>\n",
              "    </tr>\n",
              "  </tbody>\n",
              "</table>\n",
              "</div>\n",
              "    <div class=\"colab-df-buttons\">\n",
              "\n",
              "  <div class=\"colab-df-container\">\n",
              "    <button class=\"colab-df-convert\" onclick=\"convertToInteractive('df-6a270205-7a9f-4b68-bf91-e9a391f98664')\"\n",
              "            title=\"Convert this dataframe to an interactive table.\"\n",
              "            style=\"display:none;\">\n",
              "\n",
              "  <svg xmlns=\"http://www.w3.org/2000/svg\" height=\"24px\" viewBox=\"0 -960 960 960\">\n",
              "    <path d=\"M120-120v-720h720v720H120Zm60-500h600v-160H180v160Zm220 220h160v-160H400v160Zm0 220h160v-160H400v160ZM180-400h160v-160H180v160Zm440 0h160v-160H620v160ZM180-180h160v-160H180v160Zm440 0h160v-160H620v160Z\"/>\n",
              "  </svg>\n",
              "    </button>\n",
              "\n",
              "  <style>\n",
              "    .colab-df-container {\n",
              "      display:flex;\n",
              "      gap: 12px;\n",
              "    }\n",
              "\n",
              "    .colab-df-convert {\n",
              "      background-color: #E8F0FE;\n",
              "      border: none;\n",
              "      border-radius: 50%;\n",
              "      cursor: pointer;\n",
              "      display: none;\n",
              "      fill: #1967D2;\n",
              "      height: 32px;\n",
              "      padding: 0 0 0 0;\n",
              "      width: 32px;\n",
              "    }\n",
              "\n",
              "    .colab-df-convert:hover {\n",
              "      background-color: #E2EBFA;\n",
              "      box-shadow: 0px 1px 2px rgba(60, 64, 67, 0.3), 0px 1px 3px 1px rgba(60, 64, 67, 0.15);\n",
              "      fill: #174EA6;\n",
              "    }\n",
              "\n",
              "    .colab-df-buttons div {\n",
              "      margin-bottom: 4px;\n",
              "    }\n",
              "\n",
              "    [theme=dark] .colab-df-convert {\n",
              "      background-color: #3B4455;\n",
              "      fill: #D2E3FC;\n",
              "    }\n",
              "\n",
              "    [theme=dark] .colab-df-convert:hover {\n",
              "      background-color: #434B5C;\n",
              "      box-shadow: 0px 1px 3px 1px rgba(0, 0, 0, 0.15);\n",
              "      filter: drop-shadow(0px 1px 2px rgba(0, 0, 0, 0.3));\n",
              "      fill: #FFFFFF;\n",
              "    }\n",
              "  </style>\n",
              "\n",
              "    <script>\n",
              "      const buttonEl =\n",
              "        document.querySelector('#df-6a270205-7a9f-4b68-bf91-e9a391f98664 button.colab-df-convert');\n",
              "      buttonEl.style.display =\n",
              "        google.colab.kernel.accessAllowed ? 'block' : 'none';\n",
              "\n",
              "      async function convertToInteractive(key) {\n",
              "        const element = document.querySelector('#df-6a270205-7a9f-4b68-bf91-e9a391f98664');\n",
              "        const dataTable =\n",
              "          await google.colab.kernel.invokeFunction('convertToInteractive',\n",
              "                                                    [key], {});\n",
              "        if (!dataTable) return;\n",
              "\n",
              "        const docLinkHtml = 'Like what you see? Visit the ' +\n",
              "          '<a target=\"_blank\" href=https://colab.research.google.com/notebooks/data_table.ipynb>data table notebook</a>'\n",
              "          + ' to learn more about interactive tables.';\n",
              "        element.innerHTML = '';\n",
              "        dataTable['output_type'] = 'display_data';\n",
              "        await google.colab.output.renderOutput(dataTable, element);\n",
              "        const docLink = document.createElement('div');\n",
              "        docLink.innerHTML = docLinkHtml;\n",
              "        element.appendChild(docLink);\n",
              "      }\n",
              "    </script>\n",
              "  </div>\n",
              "\n",
              "\n",
              "<div id=\"df-6d0fb0f7-d01b-4980-a56f-bc4ef8d3877e\">\n",
              "  <button class=\"colab-df-quickchart\" onclick=\"quickchart('df-6d0fb0f7-d01b-4980-a56f-bc4ef8d3877e')\"\n",
              "            title=\"Suggest charts\"\n",
              "            style=\"display:none;\">\n",
              "\n",
              "<svg xmlns=\"http://www.w3.org/2000/svg\" height=\"24px\"viewBox=\"0 0 24 24\"\n",
              "     width=\"24px\">\n",
              "    <g>\n",
              "        <path d=\"M19 3H5c-1.1 0-2 .9-2 2v14c0 1.1.9 2 2 2h14c1.1 0 2-.9 2-2V5c0-1.1-.9-2-2-2zM9 17H7v-7h2v7zm4 0h-2V7h2v10zm4 0h-2v-4h2v4z\"/>\n",
              "    </g>\n",
              "</svg>\n",
              "  </button>\n",
              "\n",
              "<style>\n",
              "  .colab-df-quickchart {\n",
              "      --bg-color: #E8F0FE;\n",
              "      --fill-color: #1967D2;\n",
              "      --hover-bg-color: #E2EBFA;\n",
              "      --hover-fill-color: #174EA6;\n",
              "      --disabled-fill-color: #AAA;\n",
              "      --disabled-bg-color: #DDD;\n",
              "  }\n",
              "\n",
              "  [theme=dark] .colab-df-quickchart {\n",
              "      --bg-color: #3B4455;\n",
              "      --fill-color: #D2E3FC;\n",
              "      --hover-bg-color: #434B5C;\n",
              "      --hover-fill-color: #FFFFFF;\n",
              "      --disabled-bg-color: #3B4455;\n",
              "      --disabled-fill-color: #666;\n",
              "  }\n",
              "\n",
              "  .colab-df-quickchart {\n",
              "    background-color: var(--bg-color);\n",
              "    border: none;\n",
              "    border-radius: 50%;\n",
              "    cursor: pointer;\n",
              "    display: none;\n",
              "    fill: var(--fill-color);\n",
              "    height: 32px;\n",
              "    padding: 0;\n",
              "    width: 32px;\n",
              "  }\n",
              "\n",
              "  .colab-df-quickchart:hover {\n",
              "    background-color: var(--hover-bg-color);\n",
              "    box-shadow: 0 1px 2px rgba(60, 64, 67, 0.3), 0 1px 3px 1px rgba(60, 64, 67, 0.15);\n",
              "    fill: var(--button-hover-fill-color);\n",
              "  }\n",
              "\n",
              "  .colab-df-quickchart-complete:disabled,\n",
              "  .colab-df-quickchart-complete:disabled:hover {\n",
              "    background-color: var(--disabled-bg-color);\n",
              "    fill: var(--disabled-fill-color);\n",
              "    box-shadow: none;\n",
              "  }\n",
              "\n",
              "  .colab-df-spinner {\n",
              "    border: 2px solid var(--fill-color);\n",
              "    border-color: transparent;\n",
              "    border-bottom-color: var(--fill-color);\n",
              "    animation:\n",
              "      spin 1s steps(1) infinite;\n",
              "  }\n",
              "\n",
              "  @keyframes spin {\n",
              "    0% {\n",
              "      border-color: transparent;\n",
              "      border-bottom-color: var(--fill-color);\n",
              "      border-left-color: var(--fill-color);\n",
              "    }\n",
              "    20% {\n",
              "      border-color: transparent;\n",
              "      border-left-color: var(--fill-color);\n",
              "      border-top-color: var(--fill-color);\n",
              "    }\n",
              "    30% {\n",
              "      border-color: transparent;\n",
              "      border-left-color: var(--fill-color);\n",
              "      border-top-color: var(--fill-color);\n",
              "      border-right-color: var(--fill-color);\n",
              "    }\n",
              "    40% {\n",
              "      border-color: transparent;\n",
              "      border-right-color: var(--fill-color);\n",
              "      border-top-color: var(--fill-color);\n",
              "    }\n",
              "    60% {\n",
              "      border-color: transparent;\n",
              "      border-right-color: var(--fill-color);\n",
              "    }\n",
              "    80% {\n",
              "      border-color: transparent;\n",
              "      border-right-color: var(--fill-color);\n",
              "      border-bottom-color: var(--fill-color);\n",
              "    }\n",
              "    90% {\n",
              "      border-color: transparent;\n",
              "      border-bottom-color: var(--fill-color);\n",
              "    }\n",
              "  }\n",
              "</style>\n",
              "\n",
              "  <script>\n",
              "    async function quickchart(key) {\n",
              "      const quickchartButtonEl =\n",
              "        document.querySelector('#' + key + ' button');\n",
              "      quickchartButtonEl.disabled = true;  // To prevent multiple clicks.\n",
              "      quickchartButtonEl.classList.add('colab-df-spinner');\n",
              "      try {\n",
              "        const charts = await google.colab.kernel.invokeFunction(\n",
              "            'suggestCharts', [key], {});\n",
              "      } catch (error) {\n",
              "        console.error('Error during call to suggestCharts:', error);\n",
              "      }\n",
              "      quickchartButtonEl.classList.remove('colab-df-spinner');\n",
              "      quickchartButtonEl.classList.add('colab-df-quickchart-complete');\n",
              "    }\n",
              "    (() => {\n",
              "      let quickchartButtonEl =\n",
              "        document.querySelector('#df-6d0fb0f7-d01b-4980-a56f-bc4ef8d3877e button');\n",
              "      quickchartButtonEl.style.display =\n",
              "        google.colab.kernel.accessAllowed ? 'block' : 'none';\n",
              "    })();\n",
              "  </script>\n",
              "</div>\n",
              "\n",
              "  <div id=\"id_021d89fb-bd34-4560-86c3-63aa25f861bf\">\n",
              "    <style>\n",
              "      .colab-df-generate {\n",
              "        background-color: #E8F0FE;\n",
              "        border: none;\n",
              "        border-radius: 50%;\n",
              "        cursor: pointer;\n",
              "        display: none;\n",
              "        fill: #1967D2;\n",
              "        height: 32px;\n",
              "        padding: 0 0 0 0;\n",
              "        width: 32px;\n",
              "      }\n",
              "\n",
              "      .colab-df-generate:hover {\n",
              "        background-color: #E2EBFA;\n",
              "        box-shadow: 0px 1px 2px rgba(60, 64, 67, 0.3), 0px 1px 3px 1px rgba(60, 64, 67, 0.15);\n",
              "        fill: #174EA6;\n",
              "      }\n",
              "\n",
              "      [theme=dark] .colab-df-generate {\n",
              "        background-color: #3B4455;\n",
              "        fill: #D2E3FC;\n",
              "      }\n",
              "\n",
              "      [theme=dark] .colab-df-generate:hover {\n",
              "        background-color: #434B5C;\n",
              "        box-shadow: 0px 1px 3px 1px rgba(0, 0, 0, 0.15);\n",
              "        filter: drop-shadow(0px 1px 2px rgba(0, 0, 0, 0.3));\n",
              "        fill: #FFFFFF;\n",
              "      }\n",
              "    </style>\n",
              "    <button class=\"colab-df-generate\" onclick=\"generateWithVariable('comparison_table')\"\n",
              "            title=\"Generate code using this dataframe.\"\n",
              "            style=\"display:none;\">\n",
              "\n",
              "  <svg xmlns=\"http://www.w3.org/2000/svg\" height=\"24px\"viewBox=\"0 0 24 24\"\n",
              "       width=\"24px\">\n",
              "    <path d=\"M7,19H8.4L18.45,9,17,7.55,7,17.6ZM5,21V16.75L18.45,3.32a2,2,0,0,1,2.83,0l1.4,1.43a1.91,1.91,0,0,1,.58,1.4,1.91,1.91,0,0,1-.58,1.4L9.25,21ZM18.45,9,17,7.55Zm-12,3A5.31,5.31,0,0,0,4.9,8.1,5.31,5.31,0,0,0,1,6.5,5.31,5.31,0,0,0,4.9,4.9,5.31,5.31,0,0,0,6.5,1,5.31,5.31,0,0,0,8.1,4.9,5.31,5.31,0,0,0,12,6.5,5.46,5.46,0,0,0,6.5,12Z\"/>\n",
              "  </svg>\n",
              "    </button>\n",
              "    <script>\n",
              "      (() => {\n",
              "      const buttonEl =\n",
              "        document.querySelector('#id_021d89fb-bd34-4560-86c3-63aa25f861bf button.colab-df-generate');\n",
              "      buttonEl.style.display =\n",
              "        google.colab.kernel.accessAllowed ? 'block' : 'none';\n",
              "\n",
              "      buttonEl.onclick = () => {\n",
              "        google.colab.notebook.generateWithVariable('comparison_table');\n",
              "      }\n",
              "      })();\n",
              "    </script>\n",
              "  </div>\n",
              "\n",
              "    </div>\n",
              "  </div>\n"
            ],
            "application/vnd.google.colaboratory.intrinsic+json": {
              "type": "dataframe",
              "variable_name": "comparison_table",
              "summary": "{\n  \"name\": \"comparison_table\",\n  \"rows\": 4,\n  \"fields\": [\n    {\n      \"column\": \"Loss\",\n      \"properties\": {\n        \"dtype\": \"number\",\n        \"std\": 0.23763364485414665,\n        \"min\": 0.4699,\n        \"max\": 1.0434,\n        \"num_unique_values\": 4,\n        \"samples\": [\n          0.8357,\n          0.4699,\n          1.0434\n        ],\n        \"semantic_type\": \"\",\n        \"description\": \"\"\n      }\n    },\n    {\n      \"column\": \"Accuracy\",\n      \"properties\": {\n        \"dtype\": \"number\",\n        \"std\": 0.1088878781132225,\n        \"min\": 0.6781,\n        \"max\": 0.9129,\n        \"num_unique_values\": 4,\n        \"samples\": [\n          0.7447,\n          0.9129,\n          0.6781\n        ],\n        \"semantic_type\": \"\",\n        \"description\": \"\"\n      }\n    },\n    {\n      \"column\": \"Number parameters\",\n      \"properties\": {\n        \"dtype\": \"number\",\n        \"std\": 108555,\n        \"min\": 68010,\n        \"max\": 310186,\n        \"num_unique_values\": 4,\n        \"samples\": [\n          310186,\n          164170,\n          68010\n        ],\n        \"semantic_type\": \"\",\n        \"description\": \"\"\n      }\n    }\n  ]\n}"
            }
          },
          "metadata": {},
          "execution_count": 6
        }
      ],
      "source": [
        "comparison_table"
      ]
    },
    {
      "cell_type": "markdown",
      "metadata": {
        "id": "TNN9v713AjQJ"
      },
      "source": [
        "**Final Observations:**\n",
        "* ANN model 2 outperformed ANN model 1.\n",
        "* CNN model 2 outperformed ANN model 2.\n",
        "* CNN model 1 was overfitting.\n",
        "* CNN model 2 fits the data well.\n",
        "* The validation set hasn't been used, for all the model's requirements, there was already a predefined requirement on validation split %.\n",
        "\n",
        "Among all the models CNN model 2 gave the best results, however, it took longer to train it, we can add an early stopping next time.\n",
        "\n",
        "**Recommendations & Next steps**:\n",
        "* CNN model 2 is the best model among all the suggested, not only it gave the best results, but also the number of parameters was less than in ANN model 2.\n",
        "* Try to tune the CNN model 2 for better performance.\n",
        "* Make use of the Validation set to improve model performance.\n",
        "* The training dataset can be increased by distorting the images (augmentation etc..) training the model on it can also improve the model performance."
      ]
    }
  ],
  "metadata": {
    "accelerator": "TPU",
    "colab": {
      "toc_visible": true,
      "provenance": []
    },
    "kernelspec": {
      "display_name": "Python 3",
      "name": "python3"
    },
    "language_info": {
      "codemirror_mode": {
        "name": "ipython",
        "version": 3
      },
      "file_extension": ".py",
      "mimetype": "text/x-python",
      "name": "python",
      "nbconvert_exporter": "python",
      "pygments_lexer": "ipython3",
      "version": "3.9.7"
    }
  },
  "nbformat": 4,
  "nbformat_minor": 0
}